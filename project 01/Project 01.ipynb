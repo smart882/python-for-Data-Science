{
 "cells": [
  {
   "cell_type": "markdown",
   "id": "8b33bfc1",
   "metadata": {},
   "source": [
    "## Reg No. 124"
   ]
  },
  {
   "cell_type": "code",
   "execution_count": 3,
   "id": "f6936a1d",
   "metadata": {},
   "outputs": [],
   "source": [
    "import numpy as np\n",
    "import pandas as pd"
   ]
  },
  {
   "cell_type": "code",
   "execution_count": 4,
   "id": "c0bbadba",
   "metadata": {},
   "outputs": [],
   "source": [
    "#creating dataset for 10 students using dictionary.\n",
    "student = {'Name':['Joy', 'Peter', 'Paul', 'Grace', 'Bola', 'Debby', 'Eno', 'Emem','Tolu', 'Will'],\n",
    "          'Age': [22, 23, 26, 25, 27, 21, 24,19,26,27], \n",
    "          'Relationship status': ['Single', 'Single', 'Married','Single','Single','Single','Married','Single', 'Married', 'Married'],\n",
    "          'Department':['BCH', 'Law', 'Chemistry','Biology', 'Mathematics', 'Physics','English', 'Medicine', 'Pharmacy','Insurance']}"
   ]
  },
  {
   "cell_type": "code",
   "execution_count": 5,
   "id": "d07e1daf",
   "metadata": {},
   "outputs": [],
   "source": [
    "#Add cgpa to the dictionary\n",
    "student['CGPA'] = [3.0, 4.5, 3.4, 2.4, 4.0, 3.1, 1.8, 2.7,3.9, 3.7]"
   ]
  },
  {
   "cell_type": "code",
   "execution_count": 6,
   "id": "63ffcfcc",
   "metadata": {},
   "outputs": [
    {
     "data": {
      "text/plain": [
       "{'Name': ['Joy',\n",
       "  'Peter',\n",
       "  'Paul',\n",
       "  'Grace',\n",
       "  'Bola',\n",
       "  'Debby',\n",
       "  'Eno',\n",
       "  'Emem',\n",
       "  'Tolu',\n",
       "  'Will'],\n",
       " 'Age': [22, 23, 26, 25, 27, 21, 24, 19, 26, 27],\n",
       " 'Relationship status': ['Single',\n",
       "  'Single',\n",
       "  'Married',\n",
       "  'Single',\n",
       "  'Single',\n",
       "  'Single',\n",
       "  'Married',\n",
       "  'Single',\n",
       "  'Married',\n",
       "  'Married'],\n",
       " 'Department': ['BCH',\n",
       "  'Law',\n",
       "  'Chemistry',\n",
       "  'Biology',\n",
       "  'Mathematics',\n",
       "  'Physics',\n",
       "  'English',\n",
       "  'Medicine',\n",
       "  'Pharmacy',\n",
       "  'Insurance'],\n",
       " 'CGPA': [3.0, 4.5, 3.4, 2.4, 4.0, 3.1, 1.8, 2.7, 3.9, 3.7]}"
      ]
     },
     "execution_count": 6,
     "metadata": {},
     "output_type": "execute_result"
    }
   ],
   "source": [
    "student"
   ]
  },
  {
   "cell_type": "code",
   "execution_count": 7,
   "id": "77221092",
   "metadata": {},
   "outputs": [
    {
     "data": {
      "text/plain": [
       "{'Name': ['Joy',\n",
       "  'Peter',\n",
       "  'Paul',\n",
       "  'Grace',\n",
       "  'Bola',\n",
       "  'Debby',\n",
       "  'Eno',\n",
       "  'Emem',\n",
       "  'Tolu',\n",
       "  'Will'],\n",
       " 'Age': [22, 23, 26, 25, 27, 21, 24, 19, 26, 27],\n",
       " 'Department': ['BCH',\n",
       "  'Law',\n",
       "  'Chemistry',\n",
       "  'Biology',\n",
       "  'Mathematics',\n",
       "  'Physics',\n",
       "  'English',\n",
       "  'Medicine',\n",
       "  'Pharmacy',\n",
       "  'Insurance'],\n",
       " 'CGPA': [3.0, 4.5, 3.4, 2.4, 4.0, 3.1, 1.8, 2.7, 3.9, 3.7]}"
      ]
     },
     "execution_count": 7,
     "metadata": {},
     "output_type": "execute_result"
    }
   ],
   "source": [
    "#Remove relationship status from the dictionary\n",
    "student.pop('Relationship status')\n",
    "student"
   ]
  },
  {
   "cell_type": "code",
   "execution_count": 8,
   "id": "bafbe623",
   "metadata": {},
   "outputs": [],
   "source": [
    "df = pd.DataFrame(student)"
   ]
  },
  {
   "cell_type": "code",
   "execution_count": 9,
   "id": "57cf76dd",
   "metadata": {},
   "outputs": [
    {
     "data": {
      "text/html": [
       "<div>\n",
       "<style scoped>\n",
       "    .dataframe tbody tr th:only-of-type {\n",
       "        vertical-align: middle;\n",
       "    }\n",
       "\n",
       "    .dataframe tbody tr th {\n",
       "        vertical-align: top;\n",
       "    }\n",
       "\n",
       "    .dataframe thead th {\n",
       "        text-align: right;\n",
       "    }\n",
       "</style>\n",
       "<table border=\"1\" class=\"dataframe\">\n",
       "  <thead>\n",
       "    <tr style=\"text-align: right;\">\n",
       "      <th></th>\n",
       "      <th>Name</th>\n",
       "      <th>Age</th>\n",
       "      <th>Department</th>\n",
       "      <th>CGPA</th>\n",
       "    </tr>\n",
       "  </thead>\n",
       "  <tbody>\n",
       "    <tr>\n",
       "      <th>0</th>\n",
       "      <td>Joy</td>\n",
       "      <td>22</td>\n",
       "      <td>BCH</td>\n",
       "      <td>3.0</td>\n",
       "    </tr>\n",
       "    <tr>\n",
       "      <th>1</th>\n",
       "      <td>Peter</td>\n",
       "      <td>23</td>\n",
       "      <td>Law</td>\n",
       "      <td>4.5</td>\n",
       "    </tr>\n",
       "    <tr>\n",
       "      <th>2</th>\n",
       "      <td>Paul</td>\n",
       "      <td>26</td>\n",
       "      <td>Chemistry</td>\n",
       "      <td>3.4</td>\n",
       "    </tr>\n",
       "    <tr>\n",
       "      <th>3</th>\n",
       "      <td>Grace</td>\n",
       "      <td>25</td>\n",
       "      <td>Biology</td>\n",
       "      <td>2.4</td>\n",
       "    </tr>\n",
       "    <tr>\n",
       "      <th>4</th>\n",
       "      <td>Bola</td>\n",
       "      <td>27</td>\n",
       "      <td>Mathematics</td>\n",
       "      <td>4.0</td>\n",
       "    </tr>\n",
       "    <tr>\n",
       "      <th>5</th>\n",
       "      <td>Debby</td>\n",
       "      <td>21</td>\n",
       "      <td>Physics</td>\n",
       "      <td>3.1</td>\n",
       "    </tr>\n",
       "    <tr>\n",
       "      <th>6</th>\n",
       "      <td>Eno</td>\n",
       "      <td>24</td>\n",
       "      <td>English</td>\n",
       "      <td>1.8</td>\n",
       "    </tr>\n",
       "    <tr>\n",
       "      <th>7</th>\n",
       "      <td>Emem</td>\n",
       "      <td>19</td>\n",
       "      <td>Medicine</td>\n",
       "      <td>2.7</td>\n",
       "    </tr>\n",
       "    <tr>\n",
       "      <th>8</th>\n",
       "      <td>Tolu</td>\n",
       "      <td>26</td>\n",
       "      <td>Pharmacy</td>\n",
       "      <td>3.9</td>\n",
       "    </tr>\n",
       "    <tr>\n",
       "      <th>9</th>\n",
       "      <td>Will</td>\n",
       "      <td>27</td>\n",
       "      <td>Insurance</td>\n",
       "      <td>3.7</td>\n",
       "    </tr>\n",
       "  </tbody>\n",
       "</table>\n",
       "</div>"
      ],
      "text/plain": [
       "    Name  Age   Department  CGPA\n",
       "0    Joy   22          BCH   3.0\n",
       "1  Peter   23          Law   4.5\n",
       "2   Paul   26    Chemistry   3.4\n",
       "3  Grace   25      Biology   2.4\n",
       "4   Bola   27  Mathematics   4.0\n",
       "5  Debby   21      Physics   3.1\n",
       "6    Eno   24      English   1.8\n",
       "7   Emem   19     Medicine   2.7\n",
       "8   Tolu   26     Pharmacy   3.9\n",
       "9   Will   27    Insurance   3.7"
      ]
     },
     "execution_count": 9,
     "metadata": {},
     "output_type": "execute_result"
    }
   ],
   "source": [
    "df"
   ]
  },
  {
   "cell_type": "code",
   "execution_count": 10,
   "id": "bc2924df",
   "metadata": {},
   "outputs": [],
   "source": [
    "#Add admission_date (year, month and day)and gender columns to the dataframe\n",
    "df['Admission_date'] = ['2022-3-11', '2022-3-11', '2022-3-12', '2022-3-16', '2022-3-17', '2022-3-19', '2022-3-28',  '2022-3-24', '2022-3-21', '2022-4-4']\n",
    "df['Gender'] = ['Female', 'Male','Male', 'Female','Male','Female', 'Female','Female','Male','Male']"
   ]
  },
  {
   "cell_type": "code",
   "execution_count": 11,
   "id": "d2b50191",
   "metadata": {},
   "outputs": [
    {
     "data": {
      "text/html": [
       "<div>\n",
       "<style scoped>\n",
       "    .dataframe tbody tr th:only-of-type {\n",
       "        vertical-align: middle;\n",
       "    }\n",
       "\n",
       "    .dataframe tbody tr th {\n",
       "        vertical-align: top;\n",
       "    }\n",
       "\n",
       "    .dataframe thead th {\n",
       "        text-align: right;\n",
       "    }\n",
       "</style>\n",
       "<table border=\"1\" class=\"dataframe\">\n",
       "  <thead>\n",
       "    <tr style=\"text-align: right;\">\n",
       "      <th></th>\n",
       "      <th>Name</th>\n",
       "      <th>Age</th>\n",
       "      <th>Department</th>\n",
       "      <th>CGPA</th>\n",
       "      <th>Admission_date</th>\n",
       "      <th>Gender</th>\n",
       "    </tr>\n",
       "  </thead>\n",
       "  <tbody>\n",
       "    <tr>\n",
       "      <th>0</th>\n",
       "      <td>Joy</td>\n",
       "      <td>22</td>\n",
       "      <td>BCH</td>\n",
       "      <td>3.0</td>\n",
       "      <td>2022-3-11</td>\n",
       "      <td>Female</td>\n",
       "    </tr>\n",
       "    <tr>\n",
       "      <th>1</th>\n",
       "      <td>Peter</td>\n",
       "      <td>23</td>\n",
       "      <td>Law</td>\n",
       "      <td>4.5</td>\n",
       "      <td>2022-3-11</td>\n",
       "      <td>Male</td>\n",
       "    </tr>\n",
       "    <tr>\n",
       "      <th>2</th>\n",
       "      <td>Paul</td>\n",
       "      <td>26</td>\n",
       "      <td>Chemistry</td>\n",
       "      <td>3.4</td>\n",
       "      <td>2022-3-12</td>\n",
       "      <td>Male</td>\n",
       "    </tr>\n",
       "    <tr>\n",
       "      <th>3</th>\n",
       "      <td>Grace</td>\n",
       "      <td>25</td>\n",
       "      <td>Biology</td>\n",
       "      <td>2.4</td>\n",
       "      <td>2022-3-16</td>\n",
       "      <td>Female</td>\n",
       "    </tr>\n",
       "    <tr>\n",
       "      <th>4</th>\n",
       "      <td>Bola</td>\n",
       "      <td>27</td>\n",
       "      <td>Mathematics</td>\n",
       "      <td>4.0</td>\n",
       "      <td>2022-3-17</td>\n",
       "      <td>Male</td>\n",
       "    </tr>\n",
       "    <tr>\n",
       "      <th>5</th>\n",
       "      <td>Debby</td>\n",
       "      <td>21</td>\n",
       "      <td>Physics</td>\n",
       "      <td>3.1</td>\n",
       "      <td>2022-3-19</td>\n",
       "      <td>Female</td>\n",
       "    </tr>\n",
       "    <tr>\n",
       "      <th>6</th>\n",
       "      <td>Eno</td>\n",
       "      <td>24</td>\n",
       "      <td>English</td>\n",
       "      <td>1.8</td>\n",
       "      <td>2022-3-28</td>\n",
       "      <td>Female</td>\n",
       "    </tr>\n",
       "    <tr>\n",
       "      <th>7</th>\n",
       "      <td>Emem</td>\n",
       "      <td>19</td>\n",
       "      <td>Medicine</td>\n",
       "      <td>2.7</td>\n",
       "      <td>2022-3-24</td>\n",
       "      <td>Female</td>\n",
       "    </tr>\n",
       "    <tr>\n",
       "      <th>8</th>\n",
       "      <td>Tolu</td>\n",
       "      <td>26</td>\n",
       "      <td>Pharmacy</td>\n",
       "      <td>3.9</td>\n",
       "      <td>2022-3-21</td>\n",
       "      <td>Male</td>\n",
       "    </tr>\n",
       "    <tr>\n",
       "      <th>9</th>\n",
       "      <td>Will</td>\n",
       "      <td>27</td>\n",
       "      <td>Insurance</td>\n",
       "      <td>3.7</td>\n",
       "      <td>2022-4-4</td>\n",
       "      <td>Male</td>\n",
       "    </tr>\n",
       "  </tbody>\n",
       "</table>\n",
       "</div>"
      ],
      "text/plain": [
       "    Name  Age   Department  CGPA Admission_date  Gender\n",
       "0    Joy   22          BCH   3.0      2022-3-11  Female\n",
       "1  Peter   23          Law   4.5      2022-3-11    Male\n",
       "2   Paul   26    Chemistry   3.4      2022-3-12    Male\n",
       "3  Grace   25      Biology   2.4      2022-3-16  Female\n",
       "4   Bola   27  Mathematics   4.0      2022-3-17    Male\n",
       "5  Debby   21      Physics   3.1      2022-3-19  Female\n",
       "6    Eno   24      English   1.8      2022-3-28  Female\n",
       "7   Emem   19     Medicine   2.7      2022-3-24  Female\n",
       "8   Tolu   26     Pharmacy   3.9      2022-3-21    Male\n",
       "9   Will   27    Insurance   3.7       2022-4-4    Male"
      ]
     },
     "execution_count": 11,
     "metadata": {},
     "output_type": "execute_result"
    }
   ],
   "source": [
    "df"
   ]
  },
  {
   "cell_type": "code",
   "execution_count": 12,
   "id": "ccaf9d4b",
   "metadata": {},
   "outputs": [],
   "source": [
    "#creating dataset for 10 students with list.\n",
    "name =['Joy', 'Peter', 'Paul', 'Grace', 'Bola', 'Debby', 'Eno', 'Emem','Tolu', 'Will']\n",
    "age = [22, 23, 26, 25, 27, 21, 24,19,26,27]\n",
    "relationship = ['Single', 'Single', 'Married','Single','Single','Single','Married','Single', 'Married', 'Married']\n",
    "department =['BCH', 'Law', 'Chemistry','Biology', 'Mathematics', 'Physics','English', 'Medicine', 'Pharmacy','Insurance']\n",
    "gp = [3.0, 4.5, 3.4, 2.4, 4.0, 3.1, 1.8, 2.7,3.9, 3.7]\n",
    "admission_date = ['2022-3-11', '2022-3-11', '2022-3-12', '2022-3-16', '2022-3-17', '2022-3-19', '2022-3-28',  '2022-3-24', '2022-3-21', '2022-4-4']\n",
    "gender = ['Female', 'Male','Male', 'Female','Male','Female', 'Female','Female','Male','Male']\n",
    "\n",
    "df2 = pd.DataFrame({'Name':name, 'Age':age, 'Relationship':relationship, 'Department':department, 'CGPA':gp, 'Admission_Date':admission_date, 'Gender':gender})"
   ]
  },
  {
   "cell_type": "code",
   "execution_count": 13,
   "id": "a6ed15e3",
   "metadata": {},
   "outputs": [
    {
     "data": {
      "text/html": [
       "<div>\n",
       "<style scoped>\n",
       "    .dataframe tbody tr th:only-of-type {\n",
       "        vertical-align: middle;\n",
       "    }\n",
       "\n",
       "    .dataframe tbody tr th {\n",
       "        vertical-align: top;\n",
       "    }\n",
       "\n",
       "    .dataframe thead th {\n",
       "        text-align: right;\n",
       "    }\n",
       "</style>\n",
       "<table border=\"1\" class=\"dataframe\">\n",
       "  <thead>\n",
       "    <tr style=\"text-align: right;\">\n",
       "      <th></th>\n",
       "      <th>Name</th>\n",
       "      <th>Age</th>\n",
       "      <th>Relationship</th>\n",
       "      <th>Department</th>\n",
       "      <th>CGPA</th>\n",
       "      <th>Admission_Date</th>\n",
       "      <th>Gender</th>\n",
       "    </tr>\n",
       "  </thead>\n",
       "  <tbody>\n",
       "    <tr>\n",
       "      <th>0</th>\n",
       "      <td>Joy</td>\n",
       "      <td>22</td>\n",
       "      <td>Single</td>\n",
       "      <td>BCH</td>\n",
       "      <td>3.0</td>\n",
       "      <td>2022-3-11</td>\n",
       "      <td>Female</td>\n",
       "    </tr>\n",
       "    <tr>\n",
       "      <th>1</th>\n",
       "      <td>Peter</td>\n",
       "      <td>23</td>\n",
       "      <td>Single</td>\n",
       "      <td>Law</td>\n",
       "      <td>4.5</td>\n",
       "      <td>2022-3-11</td>\n",
       "      <td>Male</td>\n",
       "    </tr>\n",
       "    <tr>\n",
       "      <th>2</th>\n",
       "      <td>Paul</td>\n",
       "      <td>26</td>\n",
       "      <td>Married</td>\n",
       "      <td>Chemistry</td>\n",
       "      <td>3.4</td>\n",
       "      <td>2022-3-12</td>\n",
       "      <td>Male</td>\n",
       "    </tr>\n",
       "    <tr>\n",
       "      <th>3</th>\n",
       "      <td>Grace</td>\n",
       "      <td>25</td>\n",
       "      <td>Single</td>\n",
       "      <td>Biology</td>\n",
       "      <td>2.4</td>\n",
       "      <td>2022-3-16</td>\n",
       "      <td>Female</td>\n",
       "    </tr>\n",
       "    <tr>\n",
       "      <th>4</th>\n",
       "      <td>Bola</td>\n",
       "      <td>27</td>\n",
       "      <td>Single</td>\n",
       "      <td>Mathematics</td>\n",
       "      <td>4.0</td>\n",
       "      <td>2022-3-17</td>\n",
       "      <td>Male</td>\n",
       "    </tr>\n",
       "    <tr>\n",
       "      <th>5</th>\n",
       "      <td>Debby</td>\n",
       "      <td>21</td>\n",
       "      <td>Single</td>\n",
       "      <td>Physics</td>\n",
       "      <td>3.1</td>\n",
       "      <td>2022-3-19</td>\n",
       "      <td>Female</td>\n",
       "    </tr>\n",
       "    <tr>\n",
       "      <th>6</th>\n",
       "      <td>Eno</td>\n",
       "      <td>24</td>\n",
       "      <td>Married</td>\n",
       "      <td>English</td>\n",
       "      <td>1.8</td>\n",
       "      <td>2022-3-28</td>\n",
       "      <td>Female</td>\n",
       "    </tr>\n",
       "    <tr>\n",
       "      <th>7</th>\n",
       "      <td>Emem</td>\n",
       "      <td>19</td>\n",
       "      <td>Single</td>\n",
       "      <td>Medicine</td>\n",
       "      <td>2.7</td>\n",
       "      <td>2022-3-24</td>\n",
       "      <td>Female</td>\n",
       "    </tr>\n",
       "    <tr>\n",
       "      <th>8</th>\n",
       "      <td>Tolu</td>\n",
       "      <td>26</td>\n",
       "      <td>Married</td>\n",
       "      <td>Pharmacy</td>\n",
       "      <td>3.9</td>\n",
       "      <td>2022-3-21</td>\n",
       "      <td>Male</td>\n",
       "    </tr>\n",
       "    <tr>\n",
       "      <th>9</th>\n",
       "      <td>Will</td>\n",
       "      <td>27</td>\n",
       "      <td>Married</td>\n",
       "      <td>Insurance</td>\n",
       "      <td>3.7</td>\n",
       "      <td>2022-4-4</td>\n",
       "      <td>Male</td>\n",
       "    </tr>\n",
       "  </tbody>\n",
       "</table>\n",
       "</div>"
      ],
      "text/plain": [
       "    Name  Age Relationship   Department  CGPA Admission_Date  Gender\n",
       "0    Joy   22       Single          BCH   3.0      2022-3-11  Female\n",
       "1  Peter   23       Single          Law   4.5      2022-3-11    Male\n",
       "2   Paul   26      Married    Chemistry   3.4      2022-3-12    Male\n",
       "3  Grace   25       Single      Biology   2.4      2022-3-16  Female\n",
       "4   Bola   27       Single  Mathematics   4.0      2022-3-17    Male\n",
       "5  Debby   21       Single      Physics   3.1      2022-3-19  Female\n",
       "6    Eno   24      Married      English   1.8      2022-3-28  Female\n",
       "7   Emem   19       Single     Medicine   2.7      2022-3-24  Female\n",
       "8   Tolu   26      Married     Pharmacy   3.9      2022-3-21    Male\n",
       "9   Will   27      Married    Insurance   3.7       2022-4-4    Male"
      ]
     },
     "execution_count": 13,
     "metadata": {},
     "output_type": "execute_result"
    }
   ],
   "source": [
    "df2 "
   ]
  },
  {
   "cell_type": "code",
   "execution_count": 14,
   "id": "d3cdb43b",
   "metadata": {},
   "outputs": [],
   "source": [
    "import datetime"
   ]
  },
  {
   "cell_type": "code",
   "execution_count": 15,
   "id": "81d374fc",
   "metadata": {},
   "outputs": [
    {
     "data": {
      "text/html": [
       "<div>\n",
       "<style scoped>\n",
       "    .dataframe tbody tr th:only-of-type {\n",
       "        vertical-align: middle;\n",
       "    }\n",
       "\n",
       "    .dataframe tbody tr th {\n",
       "        vertical-align: top;\n",
       "    }\n",
       "\n",
       "    .dataframe thead th {\n",
       "        text-align: right;\n",
       "    }\n",
       "</style>\n",
       "<table border=\"1\" class=\"dataframe\">\n",
       "  <thead>\n",
       "    <tr style=\"text-align: right;\">\n",
       "      <th></th>\n",
       "      <th>Name</th>\n",
       "      <th>Age</th>\n",
       "      <th>Relationship</th>\n",
       "      <th>Department</th>\n",
       "      <th>CGPA</th>\n",
       "      <th>Admission_Date</th>\n",
       "      <th>Gender</th>\n",
       "    </tr>\n",
       "  </thead>\n",
       "  <tbody>\n",
       "    <tr>\n",
       "      <th>0</th>\n",
       "      <td>Joy</td>\n",
       "      <td>22</td>\n",
       "      <td>Single</td>\n",
       "      <td>BCH</td>\n",
       "      <td>3.0</td>\n",
       "      <td>2022-3-11</td>\n",
       "      <td>Female</td>\n",
       "    </tr>\n",
       "    <tr>\n",
       "      <th>1</th>\n",
       "      <td>Peter</td>\n",
       "      <td>23</td>\n",
       "      <td>Single</td>\n",
       "      <td>Law</td>\n",
       "      <td>4.5</td>\n",
       "      <td>2022-3-11</td>\n",
       "      <td>Male</td>\n",
       "    </tr>\n",
       "    <tr>\n",
       "      <th>2</th>\n",
       "      <td>Paul</td>\n",
       "      <td>26</td>\n",
       "      <td>Married</td>\n",
       "      <td>Chemistry</td>\n",
       "      <td>3.4</td>\n",
       "      <td>2022-3-12</td>\n",
       "      <td>Male</td>\n",
       "    </tr>\n",
       "    <tr>\n",
       "      <th>3</th>\n",
       "      <td>Grace</td>\n",
       "      <td>25</td>\n",
       "      <td>Single</td>\n",
       "      <td>Biology</td>\n",
       "      <td>2.4</td>\n",
       "      <td>2022-3-16</td>\n",
       "      <td>Female</td>\n",
       "    </tr>\n",
       "    <tr>\n",
       "      <th>4</th>\n",
       "      <td>Bola</td>\n",
       "      <td>27</td>\n",
       "      <td>Single</td>\n",
       "      <td>Mathematics</td>\n",
       "      <td>4.0</td>\n",
       "      <td>2022-3-17</td>\n",
       "      <td>Male</td>\n",
       "    </tr>\n",
       "    <tr>\n",
       "      <th>5</th>\n",
       "      <td>Debby</td>\n",
       "      <td>21</td>\n",
       "      <td>Single</td>\n",
       "      <td>Physics</td>\n",
       "      <td>3.1</td>\n",
       "      <td>2022-3-19</td>\n",
       "      <td>Female</td>\n",
       "    </tr>\n",
       "    <tr>\n",
       "      <th>6</th>\n",
       "      <td>Eno</td>\n",
       "      <td>24</td>\n",
       "      <td>Married</td>\n",
       "      <td>English</td>\n",
       "      <td>1.8</td>\n",
       "      <td>2022-3-28</td>\n",
       "      <td>Female</td>\n",
       "    </tr>\n",
       "    <tr>\n",
       "      <th>7</th>\n",
       "      <td>Emem</td>\n",
       "      <td>19</td>\n",
       "      <td>Single</td>\n",
       "      <td>Medicine</td>\n",
       "      <td>2.7</td>\n",
       "      <td>2022-3-24</td>\n",
       "      <td>Female</td>\n",
       "    </tr>\n",
       "    <tr>\n",
       "      <th>8</th>\n",
       "      <td>Tolu</td>\n",
       "      <td>26</td>\n",
       "      <td>Married</td>\n",
       "      <td>Pharmacy</td>\n",
       "      <td>3.9</td>\n",
       "      <td>2022-3-21</td>\n",
       "      <td>Male</td>\n",
       "    </tr>\n",
       "    <tr>\n",
       "      <th>9</th>\n",
       "      <td>Will</td>\n",
       "      <td>27</td>\n",
       "      <td>Married</td>\n",
       "      <td>Insurance</td>\n",
       "      <td>3.7</td>\n",
       "      <td>2022-4-4</td>\n",
       "      <td>Male</td>\n",
       "    </tr>\n",
       "  </tbody>\n",
       "</table>\n",
       "</div>"
      ],
      "text/plain": [
       "    Name  Age Relationship   Department  CGPA Admission_Date  Gender\n",
       "0    Joy   22       Single          BCH   3.0      2022-3-11  Female\n",
       "1  Peter   23       Single          Law   4.5      2022-3-11    Male\n",
       "2   Paul   26      Married    Chemistry   3.4      2022-3-12    Male\n",
       "3  Grace   25       Single      Biology   2.4      2022-3-16  Female\n",
       "4   Bola   27       Single  Mathematics   4.0      2022-3-17    Male\n",
       "5  Debby   21       Single      Physics   3.1      2022-3-19  Female\n",
       "6    Eno   24      Married      English   1.8      2022-3-28  Female\n",
       "7   Emem   19       Single     Medicine   2.7      2022-3-24  Female\n",
       "8   Tolu   26      Married     Pharmacy   3.9      2022-3-21    Male\n",
       "9   Will   27      Married    Insurance   3.7       2022-4-4    Male"
      ]
     },
     "execution_count": 15,
     "metadata": {},
     "output_type": "execute_result"
    }
   ],
   "source": [
    "df2\n"
   ]
  },
  {
   "cell_type": "code",
   "execution_count": 16,
   "id": "25006ee3",
   "metadata": {},
   "outputs": [
    {
     "data": {
      "text/html": [
       "<div>\n",
       "<style scoped>\n",
       "    .dataframe tbody tr th:only-of-type {\n",
       "        vertical-align: middle;\n",
       "    }\n",
       "\n",
       "    .dataframe tbody tr th {\n",
       "        vertical-align: top;\n",
       "    }\n",
       "\n",
       "    .dataframe thead th {\n",
       "        text-align: right;\n",
       "    }\n",
       "</style>\n",
       "<table border=\"1\" class=\"dataframe\">\n",
       "  <thead>\n",
       "    <tr style=\"text-align: right;\">\n",
       "      <th></th>\n",
       "      <th>Name</th>\n",
       "      <th>Age</th>\n",
       "      <th>Relationship</th>\n",
       "      <th>Department</th>\n",
       "      <th>CGPA</th>\n",
       "      <th>Admission_Date</th>\n",
       "      <th>Gender</th>\n",
       "    </tr>\n",
       "  </thead>\n",
       "  <tbody>\n",
       "    <tr>\n",
       "      <th>0</th>\n",
       "      <td>Joy</td>\n",
       "      <td>22</td>\n",
       "      <td>Single</td>\n",
       "      <td>BCH</td>\n",
       "      <td>3.0</td>\n",
       "      <td>2022-03-11</td>\n",
       "      <td>Female</td>\n",
       "    </tr>\n",
       "    <tr>\n",
       "      <th>1</th>\n",
       "      <td>Peter</td>\n",
       "      <td>23</td>\n",
       "      <td>Single</td>\n",
       "      <td>Law</td>\n",
       "      <td>4.5</td>\n",
       "      <td>2022-03-11</td>\n",
       "      <td>Male</td>\n",
       "    </tr>\n",
       "    <tr>\n",
       "      <th>2</th>\n",
       "      <td>Paul</td>\n",
       "      <td>26</td>\n",
       "      <td>Married</td>\n",
       "      <td>Chemistry</td>\n",
       "      <td>3.4</td>\n",
       "      <td>2022-03-12</td>\n",
       "      <td>Male</td>\n",
       "    </tr>\n",
       "    <tr>\n",
       "      <th>3</th>\n",
       "      <td>Grace</td>\n",
       "      <td>25</td>\n",
       "      <td>Single</td>\n",
       "      <td>Biology</td>\n",
       "      <td>2.4</td>\n",
       "      <td>2022-03-16</td>\n",
       "      <td>Female</td>\n",
       "    </tr>\n",
       "    <tr>\n",
       "      <th>4</th>\n",
       "      <td>Bola</td>\n",
       "      <td>27</td>\n",
       "      <td>Single</td>\n",
       "      <td>Mathematics</td>\n",
       "      <td>4.0</td>\n",
       "      <td>2022-03-17</td>\n",
       "      <td>Male</td>\n",
       "    </tr>\n",
       "    <tr>\n",
       "      <th>5</th>\n",
       "      <td>Debby</td>\n",
       "      <td>21</td>\n",
       "      <td>Single</td>\n",
       "      <td>Physics</td>\n",
       "      <td>3.1</td>\n",
       "      <td>2022-03-19</td>\n",
       "      <td>Female</td>\n",
       "    </tr>\n",
       "    <tr>\n",
       "      <th>6</th>\n",
       "      <td>Eno</td>\n",
       "      <td>24</td>\n",
       "      <td>Married</td>\n",
       "      <td>English</td>\n",
       "      <td>1.8</td>\n",
       "      <td>2022-03-28</td>\n",
       "      <td>Female</td>\n",
       "    </tr>\n",
       "    <tr>\n",
       "      <th>7</th>\n",
       "      <td>Emem</td>\n",
       "      <td>19</td>\n",
       "      <td>Single</td>\n",
       "      <td>Medicine</td>\n",
       "      <td>2.7</td>\n",
       "      <td>2022-03-24</td>\n",
       "      <td>Female</td>\n",
       "    </tr>\n",
       "    <tr>\n",
       "      <th>8</th>\n",
       "      <td>Tolu</td>\n",
       "      <td>26</td>\n",
       "      <td>Married</td>\n",
       "      <td>Pharmacy</td>\n",
       "      <td>3.9</td>\n",
       "      <td>2022-03-21</td>\n",
       "      <td>Male</td>\n",
       "    </tr>\n",
       "    <tr>\n",
       "      <th>9</th>\n",
       "      <td>Will</td>\n",
       "      <td>27</td>\n",
       "      <td>Married</td>\n",
       "      <td>Insurance</td>\n",
       "      <td>3.7</td>\n",
       "      <td>2022-04-04</td>\n",
       "      <td>Male</td>\n",
       "    </tr>\n",
       "  </tbody>\n",
       "</table>\n",
       "</div>"
      ],
      "text/plain": [
       "    Name  Age Relationship   Department  CGPA Admission_Date  Gender\n",
       "0    Joy   22       Single          BCH   3.0     2022-03-11  Female\n",
       "1  Peter   23       Single          Law   4.5     2022-03-11    Male\n",
       "2   Paul   26      Married    Chemistry   3.4     2022-03-12    Male\n",
       "3  Grace   25       Single      Biology   2.4     2022-03-16  Female\n",
       "4   Bola   27       Single  Mathematics   4.0     2022-03-17    Male\n",
       "5  Debby   21       Single      Physics   3.1     2022-03-19  Female\n",
       "6    Eno   24      Married      English   1.8     2022-03-28  Female\n",
       "7   Emem   19       Single     Medicine   2.7     2022-03-24  Female\n",
       "8   Tolu   26      Married     Pharmacy   3.9     2022-03-21    Male\n",
       "9   Will   27      Married    Insurance   3.7     2022-04-04    Male"
      ]
     },
     "execution_count": 16,
     "metadata": {},
     "output_type": "execute_result"
    }
   ],
   "source": [
    "# converting date to datetime object\n",
    "df2['Admission_Date'] = pd.to_datetime(df2['Admission_Date'])\n",
    "df2"
   ]
  },
  {
   "cell_type": "code",
   "execution_count": 17,
   "id": "c426f8d7",
   "metadata": {},
   "outputs": [
    {
     "data": {
      "text/plain": [
       "Name                      object\n",
       "Age                        int64\n",
       "Relationship              object\n",
       "Department                object\n",
       "CGPA                     float64\n",
       "Admission_Date    datetime64[ns]\n",
       "Gender                    object\n",
       "dtype: object"
      ]
     },
     "execution_count": 17,
     "metadata": {},
     "output_type": "execute_result"
    }
   ],
   "source": [
    "# Checking for data types of all columns\n",
    "df2.dtypes"
   ]
  },
  {
   "cell_type": "code",
   "execution_count": 18,
   "id": "36021d8b",
   "metadata": {},
   "outputs": [
    {
     "data": {
      "text/html": [
       "<div>\n",
       "<style scoped>\n",
       "    .dataframe tbody tr th:only-of-type {\n",
       "        vertical-align: middle;\n",
       "    }\n",
       "\n",
       "    .dataframe tbody tr th {\n",
       "        vertical-align: top;\n",
       "    }\n",
       "\n",
       "    .dataframe thead th {\n",
       "        text-align: right;\n",
       "    }\n",
       "</style>\n",
       "<table border=\"1\" class=\"dataframe\">\n",
       "  <thead>\n",
       "    <tr style=\"text-align: right;\">\n",
       "      <th></th>\n",
       "      <th>Name</th>\n",
       "      <th>Age</th>\n",
       "      <th>Relationship</th>\n",
       "      <th>Department</th>\n",
       "      <th>CGPA</th>\n",
       "      <th>Admission_Date</th>\n",
       "      <th>Gender</th>\n",
       "      <th>year</th>\n",
       "    </tr>\n",
       "  </thead>\n",
       "  <tbody>\n",
       "    <tr>\n",
       "      <th>0</th>\n",
       "      <td>Joy</td>\n",
       "      <td>22</td>\n",
       "      <td>Single</td>\n",
       "      <td>BCH</td>\n",
       "      <td>3.0</td>\n",
       "      <td>2022-03-11</td>\n",
       "      <td>Female</td>\n",
       "      <td>2022</td>\n",
       "    </tr>\n",
       "    <tr>\n",
       "      <th>1</th>\n",
       "      <td>Peter</td>\n",
       "      <td>23</td>\n",
       "      <td>Single</td>\n",
       "      <td>Law</td>\n",
       "      <td>4.5</td>\n",
       "      <td>2022-03-11</td>\n",
       "      <td>Male</td>\n",
       "      <td>2022</td>\n",
       "    </tr>\n",
       "    <tr>\n",
       "      <th>2</th>\n",
       "      <td>Paul</td>\n",
       "      <td>26</td>\n",
       "      <td>Married</td>\n",
       "      <td>Chemistry</td>\n",
       "      <td>3.4</td>\n",
       "      <td>2022-03-12</td>\n",
       "      <td>Male</td>\n",
       "      <td>2022</td>\n",
       "    </tr>\n",
       "    <tr>\n",
       "      <th>3</th>\n",
       "      <td>Grace</td>\n",
       "      <td>25</td>\n",
       "      <td>Single</td>\n",
       "      <td>Biology</td>\n",
       "      <td>2.4</td>\n",
       "      <td>2022-03-16</td>\n",
       "      <td>Female</td>\n",
       "      <td>2022</td>\n",
       "    </tr>\n",
       "    <tr>\n",
       "      <th>4</th>\n",
       "      <td>Bola</td>\n",
       "      <td>27</td>\n",
       "      <td>Single</td>\n",
       "      <td>Mathematics</td>\n",
       "      <td>4.0</td>\n",
       "      <td>2022-03-17</td>\n",
       "      <td>Male</td>\n",
       "      <td>2022</td>\n",
       "    </tr>\n",
       "    <tr>\n",
       "      <th>5</th>\n",
       "      <td>Debby</td>\n",
       "      <td>21</td>\n",
       "      <td>Single</td>\n",
       "      <td>Physics</td>\n",
       "      <td>3.1</td>\n",
       "      <td>2022-03-19</td>\n",
       "      <td>Female</td>\n",
       "      <td>2022</td>\n",
       "    </tr>\n",
       "    <tr>\n",
       "      <th>6</th>\n",
       "      <td>Eno</td>\n",
       "      <td>24</td>\n",
       "      <td>Married</td>\n",
       "      <td>English</td>\n",
       "      <td>1.8</td>\n",
       "      <td>2022-03-28</td>\n",
       "      <td>Female</td>\n",
       "      <td>2022</td>\n",
       "    </tr>\n",
       "    <tr>\n",
       "      <th>7</th>\n",
       "      <td>Emem</td>\n",
       "      <td>19</td>\n",
       "      <td>Single</td>\n",
       "      <td>Medicine</td>\n",
       "      <td>2.7</td>\n",
       "      <td>2022-03-24</td>\n",
       "      <td>Female</td>\n",
       "      <td>2022</td>\n",
       "    </tr>\n",
       "    <tr>\n",
       "      <th>8</th>\n",
       "      <td>Tolu</td>\n",
       "      <td>26</td>\n",
       "      <td>Married</td>\n",
       "      <td>Pharmacy</td>\n",
       "      <td>3.9</td>\n",
       "      <td>2022-03-21</td>\n",
       "      <td>Male</td>\n",
       "      <td>2022</td>\n",
       "    </tr>\n",
       "    <tr>\n",
       "      <th>9</th>\n",
       "      <td>Will</td>\n",
       "      <td>27</td>\n",
       "      <td>Married</td>\n",
       "      <td>Insurance</td>\n",
       "      <td>3.7</td>\n",
       "      <td>2022-04-04</td>\n",
       "      <td>Male</td>\n",
       "      <td>2022</td>\n",
       "    </tr>\n",
       "  </tbody>\n",
       "</table>\n",
       "</div>"
      ],
      "text/plain": [
       "    Name  Age Relationship   Department  CGPA Admission_Date  Gender  year\n",
       "0    Joy   22       Single          BCH   3.0     2022-03-11  Female  2022\n",
       "1  Peter   23       Single          Law   4.5     2022-03-11    Male  2022\n",
       "2   Paul   26      Married    Chemistry   3.4     2022-03-12    Male  2022\n",
       "3  Grace   25       Single      Biology   2.4     2022-03-16  Female  2022\n",
       "4   Bola   27       Single  Mathematics   4.0     2022-03-17    Male  2022\n",
       "5  Debby   21       Single      Physics   3.1     2022-03-19  Female  2022\n",
       "6    Eno   24      Married      English   1.8     2022-03-28  Female  2022\n",
       "7   Emem   19       Single     Medicine   2.7     2022-03-24  Female  2022\n",
       "8   Tolu   26      Married     Pharmacy   3.9     2022-03-21    Male  2022\n",
       "9   Will   27      Married    Insurance   3.7     2022-04-04    Male  2022"
      ]
     },
     "execution_count": 18,
     "metadata": {},
     "output_type": "execute_result"
    }
   ],
   "source": [
    "df2['year'] = df2['Admission_Date'].dt.year\n",
    "df2"
   ]
  },
  {
   "cell_type": "code",
   "execution_count": 19,
   "id": "cfa22176",
   "metadata": {},
   "outputs": [
    {
     "data": {
      "text/html": [
       "<div>\n",
       "<style scoped>\n",
       "    .dataframe tbody tr th:only-of-type {\n",
       "        vertical-align: middle;\n",
       "    }\n",
       "\n",
       "    .dataframe tbody tr th {\n",
       "        vertical-align: top;\n",
       "    }\n",
       "\n",
       "    .dataframe thead th {\n",
       "        text-align: right;\n",
       "    }\n",
       "</style>\n",
       "<table border=\"1\" class=\"dataframe\">\n",
       "  <thead>\n",
       "    <tr style=\"text-align: right;\">\n",
       "      <th></th>\n",
       "      <th>Name</th>\n",
       "      <th>Age</th>\n",
       "      <th>Relationship</th>\n",
       "      <th>Department</th>\n",
       "      <th>CGPA</th>\n",
       "      <th>Admission_Date</th>\n",
       "      <th>Gender</th>\n",
       "      <th>year</th>\n",
       "      <th>month</th>\n",
       "    </tr>\n",
       "  </thead>\n",
       "  <tbody>\n",
       "    <tr>\n",
       "      <th>0</th>\n",
       "      <td>Joy</td>\n",
       "      <td>22</td>\n",
       "      <td>Single</td>\n",
       "      <td>BCH</td>\n",
       "      <td>3.0</td>\n",
       "      <td>2022-03-11</td>\n",
       "      <td>Female</td>\n",
       "      <td>2022</td>\n",
       "      <td>3</td>\n",
       "    </tr>\n",
       "    <tr>\n",
       "      <th>1</th>\n",
       "      <td>Peter</td>\n",
       "      <td>23</td>\n",
       "      <td>Single</td>\n",
       "      <td>Law</td>\n",
       "      <td>4.5</td>\n",
       "      <td>2022-03-11</td>\n",
       "      <td>Male</td>\n",
       "      <td>2022</td>\n",
       "      <td>3</td>\n",
       "    </tr>\n",
       "    <tr>\n",
       "      <th>2</th>\n",
       "      <td>Paul</td>\n",
       "      <td>26</td>\n",
       "      <td>Married</td>\n",
       "      <td>Chemistry</td>\n",
       "      <td>3.4</td>\n",
       "      <td>2022-03-12</td>\n",
       "      <td>Male</td>\n",
       "      <td>2022</td>\n",
       "      <td>3</td>\n",
       "    </tr>\n",
       "    <tr>\n",
       "      <th>3</th>\n",
       "      <td>Grace</td>\n",
       "      <td>25</td>\n",
       "      <td>Single</td>\n",
       "      <td>Biology</td>\n",
       "      <td>2.4</td>\n",
       "      <td>2022-03-16</td>\n",
       "      <td>Female</td>\n",
       "      <td>2022</td>\n",
       "      <td>3</td>\n",
       "    </tr>\n",
       "    <tr>\n",
       "      <th>4</th>\n",
       "      <td>Bola</td>\n",
       "      <td>27</td>\n",
       "      <td>Single</td>\n",
       "      <td>Mathematics</td>\n",
       "      <td>4.0</td>\n",
       "      <td>2022-03-17</td>\n",
       "      <td>Male</td>\n",
       "      <td>2022</td>\n",
       "      <td>3</td>\n",
       "    </tr>\n",
       "    <tr>\n",
       "      <th>5</th>\n",
       "      <td>Debby</td>\n",
       "      <td>21</td>\n",
       "      <td>Single</td>\n",
       "      <td>Physics</td>\n",
       "      <td>3.1</td>\n",
       "      <td>2022-03-19</td>\n",
       "      <td>Female</td>\n",
       "      <td>2022</td>\n",
       "      <td>3</td>\n",
       "    </tr>\n",
       "    <tr>\n",
       "      <th>6</th>\n",
       "      <td>Eno</td>\n",
       "      <td>24</td>\n",
       "      <td>Married</td>\n",
       "      <td>English</td>\n",
       "      <td>1.8</td>\n",
       "      <td>2022-03-28</td>\n",
       "      <td>Female</td>\n",
       "      <td>2022</td>\n",
       "      <td>3</td>\n",
       "    </tr>\n",
       "    <tr>\n",
       "      <th>7</th>\n",
       "      <td>Emem</td>\n",
       "      <td>19</td>\n",
       "      <td>Single</td>\n",
       "      <td>Medicine</td>\n",
       "      <td>2.7</td>\n",
       "      <td>2022-03-24</td>\n",
       "      <td>Female</td>\n",
       "      <td>2022</td>\n",
       "      <td>3</td>\n",
       "    </tr>\n",
       "    <tr>\n",
       "      <th>8</th>\n",
       "      <td>Tolu</td>\n",
       "      <td>26</td>\n",
       "      <td>Married</td>\n",
       "      <td>Pharmacy</td>\n",
       "      <td>3.9</td>\n",
       "      <td>2022-03-21</td>\n",
       "      <td>Male</td>\n",
       "      <td>2022</td>\n",
       "      <td>3</td>\n",
       "    </tr>\n",
       "    <tr>\n",
       "      <th>9</th>\n",
       "      <td>Will</td>\n",
       "      <td>27</td>\n",
       "      <td>Married</td>\n",
       "      <td>Insurance</td>\n",
       "      <td>3.7</td>\n",
       "      <td>2022-04-04</td>\n",
       "      <td>Male</td>\n",
       "      <td>2022</td>\n",
       "      <td>4</td>\n",
       "    </tr>\n",
       "  </tbody>\n",
       "</table>\n",
       "</div>"
      ],
      "text/plain": [
       "    Name  Age Relationship   Department  CGPA Admission_Date  Gender  year  \\\n",
       "0    Joy   22       Single          BCH   3.0     2022-03-11  Female  2022   \n",
       "1  Peter   23       Single          Law   4.5     2022-03-11    Male  2022   \n",
       "2   Paul   26      Married    Chemistry   3.4     2022-03-12    Male  2022   \n",
       "3  Grace   25       Single      Biology   2.4     2022-03-16  Female  2022   \n",
       "4   Bola   27       Single  Mathematics   4.0     2022-03-17    Male  2022   \n",
       "5  Debby   21       Single      Physics   3.1     2022-03-19  Female  2022   \n",
       "6    Eno   24      Married      English   1.8     2022-03-28  Female  2022   \n",
       "7   Emem   19       Single     Medicine   2.7     2022-03-24  Female  2022   \n",
       "8   Tolu   26      Married     Pharmacy   3.9     2022-03-21    Male  2022   \n",
       "9   Will   27      Married    Insurance   3.7     2022-04-04    Male  2022   \n",
       "\n",
       "   month  \n",
       "0      3  \n",
       "1      3  \n",
       "2      3  \n",
       "3      3  \n",
       "4      3  \n",
       "5      3  \n",
       "6      3  \n",
       "7      3  \n",
       "8      3  \n",
       "9      4  "
      ]
     },
     "execution_count": 19,
     "metadata": {},
     "output_type": "execute_result"
    }
   ],
   "source": [
    "df2['month'] = df2['Admission_Date'].dt.month\n",
    "df2"
   ]
  },
  {
   "cell_type": "code",
   "execution_count": 20,
   "id": "92690d8e",
   "metadata": {},
   "outputs": [
    {
     "data": {
      "text/html": [
       "<div>\n",
       "<style scoped>\n",
       "    .dataframe tbody tr th:only-of-type {\n",
       "        vertical-align: middle;\n",
       "    }\n",
       "\n",
       "    .dataframe tbody tr th {\n",
       "        vertical-align: top;\n",
       "    }\n",
       "\n",
       "    .dataframe thead th {\n",
       "        text-align: right;\n",
       "    }\n",
       "</style>\n",
       "<table border=\"1\" class=\"dataframe\">\n",
       "  <thead>\n",
       "    <tr style=\"text-align: right;\">\n",
       "      <th></th>\n",
       "      <th>Name</th>\n",
       "      <th>Age</th>\n",
       "      <th>Relationship</th>\n",
       "      <th>Department</th>\n",
       "      <th>CGPA</th>\n",
       "      <th>Admission_Date</th>\n",
       "      <th>Gender</th>\n",
       "      <th>year</th>\n",
       "      <th>month</th>\n",
       "      <th>day</th>\n",
       "    </tr>\n",
       "  </thead>\n",
       "  <tbody>\n",
       "    <tr>\n",
       "      <th>0</th>\n",
       "      <td>Joy</td>\n",
       "      <td>22</td>\n",
       "      <td>Single</td>\n",
       "      <td>BCH</td>\n",
       "      <td>3.0</td>\n",
       "      <td>2022-03-11</td>\n",
       "      <td>Female</td>\n",
       "      <td>2022</td>\n",
       "      <td>3</td>\n",
       "      <td>11</td>\n",
       "    </tr>\n",
       "    <tr>\n",
       "      <th>1</th>\n",
       "      <td>Peter</td>\n",
       "      <td>23</td>\n",
       "      <td>Single</td>\n",
       "      <td>Law</td>\n",
       "      <td>4.5</td>\n",
       "      <td>2022-03-11</td>\n",
       "      <td>Male</td>\n",
       "      <td>2022</td>\n",
       "      <td>3</td>\n",
       "      <td>11</td>\n",
       "    </tr>\n",
       "    <tr>\n",
       "      <th>2</th>\n",
       "      <td>Paul</td>\n",
       "      <td>26</td>\n",
       "      <td>Married</td>\n",
       "      <td>Chemistry</td>\n",
       "      <td>3.4</td>\n",
       "      <td>2022-03-12</td>\n",
       "      <td>Male</td>\n",
       "      <td>2022</td>\n",
       "      <td>3</td>\n",
       "      <td>12</td>\n",
       "    </tr>\n",
       "    <tr>\n",
       "      <th>3</th>\n",
       "      <td>Grace</td>\n",
       "      <td>25</td>\n",
       "      <td>Single</td>\n",
       "      <td>Biology</td>\n",
       "      <td>2.4</td>\n",
       "      <td>2022-03-16</td>\n",
       "      <td>Female</td>\n",
       "      <td>2022</td>\n",
       "      <td>3</td>\n",
       "      <td>16</td>\n",
       "    </tr>\n",
       "    <tr>\n",
       "      <th>4</th>\n",
       "      <td>Bola</td>\n",
       "      <td>27</td>\n",
       "      <td>Single</td>\n",
       "      <td>Mathematics</td>\n",
       "      <td>4.0</td>\n",
       "      <td>2022-03-17</td>\n",
       "      <td>Male</td>\n",
       "      <td>2022</td>\n",
       "      <td>3</td>\n",
       "      <td>17</td>\n",
       "    </tr>\n",
       "    <tr>\n",
       "      <th>5</th>\n",
       "      <td>Debby</td>\n",
       "      <td>21</td>\n",
       "      <td>Single</td>\n",
       "      <td>Physics</td>\n",
       "      <td>3.1</td>\n",
       "      <td>2022-03-19</td>\n",
       "      <td>Female</td>\n",
       "      <td>2022</td>\n",
       "      <td>3</td>\n",
       "      <td>19</td>\n",
       "    </tr>\n",
       "    <tr>\n",
       "      <th>6</th>\n",
       "      <td>Eno</td>\n",
       "      <td>24</td>\n",
       "      <td>Married</td>\n",
       "      <td>English</td>\n",
       "      <td>1.8</td>\n",
       "      <td>2022-03-28</td>\n",
       "      <td>Female</td>\n",
       "      <td>2022</td>\n",
       "      <td>3</td>\n",
       "      <td>28</td>\n",
       "    </tr>\n",
       "    <tr>\n",
       "      <th>7</th>\n",
       "      <td>Emem</td>\n",
       "      <td>19</td>\n",
       "      <td>Single</td>\n",
       "      <td>Medicine</td>\n",
       "      <td>2.7</td>\n",
       "      <td>2022-03-24</td>\n",
       "      <td>Female</td>\n",
       "      <td>2022</td>\n",
       "      <td>3</td>\n",
       "      <td>24</td>\n",
       "    </tr>\n",
       "    <tr>\n",
       "      <th>8</th>\n",
       "      <td>Tolu</td>\n",
       "      <td>26</td>\n",
       "      <td>Married</td>\n",
       "      <td>Pharmacy</td>\n",
       "      <td>3.9</td>\n",
       "      <td>2022-03-21</td>\n",
       "      <td>Male</td>\n",
       "      <td>2022</td>\n",
       "      <td>3</td>\n",
       "      <td>21</td>\n",
       "    </tr>\n",
       "    <tr>\n",
       "      <th>9</th>\n",
       "      <td>Will</td>\n",
       "      <td>27</td>\n",
       "      <td>Married</td>\n",
       "      <td>Insurance</td>\n",
       "      <td>3.7</td>\n",
       "      <td>2022-04-04</td>\n",
       "      <td>Male</td>\n",
       "      <td>2022</td>\n",
       "      <td>4</td>\n",
       "      <td>4</td>\n",
       "    </tr>\n",
       "  </tbody>\n",
       "</table>\n",
       "</div>"
      ],
      "text/plain": [
       "    Name  Age Relationship   Department  CGPA Admission_Date  Gender  year  \\\n",
       "0    Joy   22       Single          BCH   3.0     2022-03-11  Female  2022   \n",
       "1  Peter   23       Single          Law   4.5     2022-03-11    Male  2022   \n",
       "2   Paul   26      Married    Chemistry   3.4     2022-03-12    Male  2022   \n",
       "3  Grace   25       Single      Biology   2.4     2022-03-16  Female  2022   \n",
       "4   Bola   27       Single  Mathematics   4.0     2022-03-17    Male  2022   \n",
       "5  Debby   21       Single      Physics   3.1     2022-03-19  Female  2022   \n",
       "6    Eno   24      Married      English   1.8     2022-03-28  Female  2022   \n",
       "7   Emem   19       Single     Medicine   2.7     2022-03-24  Female  2022   \n",
       "8   Tolu   26      Married     Pharmacy   3.9     2022-03-21    Male  2022   \n",
       "9   Will   27      Married    Insurance   3.7     2022-04-04    Male  2022   \n",
       "\n",
       "   month  day  \n",
       "0      3   11  \n",
       "1      3   11  \n",
       "2      3   12  \n",
       "3      3   16  \n",
       "4      3   17  \n",
       "5      3   19  \n",
       "6      3   28  \n",
       "7      3   24  \n",
       "8      3   21  \n",
       "9      4    4  "
      ]
     },
     "execution_count": 20,
     "metadata": {},
     "output_type": "execute_result"
    }
   ],
   "source": [
    "df2['day'] = df2['Admission_Date'].dt.day\n",
    "df2"
   ]
  },
  {
   "cell_type": "code",
   "execution_count": 21,
   "id": "6e30127e",
   "metadata": {},
   "outputs": [
    {
     "data": {
      "text/plain": [
       "Name                      object\n",
       "Age                        int64\n",
       "Relationship              object\n",
       "Department                object\n",
       "CGPA                     float64\n",
       "Admission_Date    datetime64[ns]\n",
       "Gender                    object\n",
       "year                       int64\n",
       "month                      int64\n",
       "day                        int64\n",
       "dtype: object"
      ]
     },
     "execution_count": 21,
     "metadata": {},
     "output_type": "execute_result"
    }
   ],
   "source": [
    "df2.dtypes"
   ]
  },
  {
   "cell_type": "code",
   "execution_count": 22,
   "id": "3b9792a4",
   "metadata": {},
   "outputs": [
    {
     "data": {
      "text/plain": [
       "Name              0\n",
       "Age               0\n",
       "Relationship      0\n",
       "Department        0\n",
       "CGPA              0\n",
       "Admission_Date    0\n",
       "Gender            0\n",
       "year              0\n",
       "month             0\n",
       "day               0\n",
       "dtype: int64"
      ]
     },
     "execution_count": 22,
     "metadata": {},
     "output_type": "execute_result"
    }
   ],
   "source": [
    "# Checking for missing values\n",
    "df2.isna().sum()"
   ]
  },
  {
   "cell_type": "code",
   "execution_count": 23,
   "id": "ff9c3192",
   "metadata": {},
   "outputs": [
    {
     "data": {
      "text/plain": [
       "Name              0.0\n",
       "Age               0.0\n",
       "Relationship      0.0\n",
       "Department        0.0\n",
       "CGPA              0.0\n",
       "Admission_Date    0.0\n",
       "Gender            0.0\n",
       "year              0.0\n",
       "month             0.0\n",
       "day               0.0\n",
       "dtype: float64"
      ]
     },
     "execution_count": 23,
     "metadata": {},
     "output_type": "execute_result"
    }
   ],
   "source": [
    "# Checking for percentage of  missing values\n",
    "df2.isna().sum()/df2.shape[0]*100"
   ]
  },
  {
   "cell_type": "markdown",
   "id": "70386093",
   "metadata": {},
   "source": [
    "## Checking unique values in each of the columns"
   ]
  },
  {
   "cell_type": "code",
   "execution_count": 24,
   "id": "cc361c85",
   "metadata": {},
   "outputs": [
    {
     "data": {
      "text/plain": [
       "array(['Joy', 'Peter', 'Paul', 'Grace', 'Bola', 'Debby', 'Eno', 'Emem',\n",
       "       'Tolu', 'Will'], dtype=object)"
      ]
     },
     "execution_count": 24,
     "metadata": {},
     "output_type": "execute_result"
    }
   ],
   "source": [
    "df2.Name.unique()"
   ]
  },
  {
   "cell_type": "code",
   "execution_count": 25,
   "id": "13a2044c",
   "metadata": {},
   "outputs": [
    {
     "data": {
      "text/plain": [
       "array([22, 23, 26, 25, 27, 21, 24, 19], dtype=int64)"
      ]
     },
     "execution_count": 25,
     "metadata": {},
     "output_type": "execute_result"
    }
   ],
   "source": [
    "df2.Age.unique()"
   ]
  },
  {
   "cell_type": "code",
   "execution_count": 26,
   "id": "80e300f7",
   "metadata": {},
   "outputs": [
    {
     "data": {
      "text/plain": [
       "array(['Single', 'Married'], dtype=object)"
      ]
     },
     "execution_count": 26,
     "metadata": {},
     "output_type": "execute_result"
    }
   ],
   "source": [
    "df2.Relationship.unique()"
   ]
  },
  {
   "cell_type": "code",
   "execution_count": 27,
   "id": "9d0413fc",
   "metadata": {},
   "outputs": [
    {
     "data": {
      "text/plain": [
       "array(['Female', 'Male'], dtype=object)"
      ]
     },
     "execution_count": 27,
     "metadata": {},
     "output_type": "execute_result"
    }
   ],
   "source": [
    "df2.Gender.unique()"
   ]
  },
  {
   "cell_type": "code",
   "execution_count": 28,
   "id": "3509d071",
   "metadata": {},
   "outputs": [
    {
     "data": {
      "text/plain": [
       "array(['2022-03-11T00:00:00.000000000', '2022-03-12T00:00:00.000000000',\n",
       "       '2022-03-16T00:00:00.000000000', '2022-03-17T00:00:00.000000000',\n",
       "       '2022-03-19T00:00:00.000000000', '2022-03-28T00:00:00.000000000',\n",
       "       '2022-03-24T00:00:00.000000000', '2022-03-21T00:00:00.000000000',\n",
       "       '2022-04-04T00:00:00.000000000'], dtype='datetime64[ns]')"
      ]
     },
     "execution_count": 28,
     "metadata": {},
     "output_type": "execute_result"
    }
   ],
   "source": [
    "df2.Admission_Date.unique()"
   ]
  },
  {
   "cell_type": "code",
   "execution_count": 29,
   "id": "dca9ccc6",
   "metadata": {},
   "outputs": [
    {
     "data": {
      "text/plain": [
       "array(['BCH', 'Law', 'Chemistry', 'Biology', 'Mathematics', 'Physics',\n",
       "       'English', 'Medicine', 'Pharmacy', 'Insurance'], dtype=object)"
      ]
     },
     "execution_count": 29,
     "metadata": {},
     "output_type": "execute_result"
    }
   ],
   "source": [
    "df2.Department.unique()"
   ]
  },
  {
   "cell_type": "code",
   "execution_count": 30,
   "id": "b4a75206",
   "metadata": {},
   "outputs": [
    {
     "data": {
      "text/plain": [
       "array([3. , 4.5, 3.4, 2.4, 4. , 3.1, 1.8, 2.7, 3.9, 3.7])"
      ]
     },
     "execution_count": 30,
     "metadata": {},
     "output_type": "execute_result"
    }
   ],
   "source": [
    "df2.CGPA.unique()"
   ]
  },
  {
   "cell_type": "code",
   "execution_count": 31,
   "id": "3cfe33f1",
   "metadata": {},
   "outputs": [
    {
     "data": {
      "text/plain": [
       "10"
      ]
     },
     "execution_count": 31,
     "metadata": {},
     "output_type": "execute_result"
    }
   ],
   "source": [
    "df2.Name.nunique()"
   ]
  },
  {
   "cell_type": "code",
   "execution_count": 32,
   "id": "be3433a0",
   "metadata": {},
   "outputs": [
    {
     "data": {
      "text/plain": [
       "10"
      ]
     },
     "execution_count": 32,
     "metadata": {},
     "output_type": "execute_result"
    }
   ],
   "source": [
    "df2.Department.nunique()"
   ]
  },
  {
   "cell_type": "code",
   "execution_count": 33,
   "id": "beab3e0c",
   "metadata": {},
   "outputs": [
    {
     "data": {
      "text/plain": [
       "10"
      ]
     },
     "execution_count": 33,
     "metadata": {},
     "output_type": "execute_result"
    }
   ],
   "source": [
    "df2.CGPA.nunique()"
   ]
  },
  {
   "cell_type": "code",
   "execution_count": 34,
   "id": "74c1ac0d",
   "metadata": {},
   "outputs": [
    {
     "data": {
      "text/plain": [
       "9"
      ]
     },
     "execution_count": 34,
     "metadata": {},
     "output_type": "execute_result"
    }
   ],
   "source": [
    "df2.Admission_Date.nunique()"
   ]
  },
  {
   "cell_type": "code",
   "execution_count": 35,
   "id": "94e8d42b",
   "metadata": {},
   "outputs": [
    {
     "data": {
      "text/plain": [
       "8"
      ]
     },
     "execution_count": 35,
     "metadata": {},
     "output_type": "execute_result"
    }
   ],
   "source": [
    "df2.Age.nunique()"
   ]
  },
  {
   "cell_type": "code",
   "execution_count": 36,
   "id": "5e287838",
   "metadata": {},
   "outputs": [
    {
     "data": {
      "text/plain": [
       "2"
      ]
     },
     "execution_count": 36,
     "metadata": {},
     "output_type": "execute_result"
    }
   ],
   "source": [
    "df2.Relationship.nunique()"
   ]
  },
  {
   "cell_type": "code",
   "execution_count": 37,
   "id": "ff0ba54b",
   "metadata": {},
   "outputs": [
    {
     "data": {
      "text/plain": [
       "2"
      ]
     },
     "execution_count": 37,
     "metadata": {},
     "output_type": "execute_result"
    }
   ],
   "source": [
    "df2.Gender.nunique()"
   ]
  },
  {
   "cell_type": "markdown",
   "id": "a8ffaea8",
   "metadata": {},
   "source": [
    "## Checking value counts for each of the columns"
   ]
  },
  {
   "cell_type": "code",
   "execution_count": 38,
   "id": "b0719203",
   "metadata": {},
   "outputs": [
    {
     "data": {
      "text/plain": [
       "Joy      1\n",
       "Peter    1\n",
       "Paul     1\n",
       "Grace    1\n",
       "Bola     1\n",
       "Debby    1\n",
       "Eno      1\n",
       "Emem     1\n",
       "Tolu     1\n",
       "Will     1\n",
       "Name: Name, dtype: int64"
      ]
     },
     "execution_count": 38,
     "metadata": {},
     "output_type": "execute_result"
    }
   ],
   "source": [
    "df2.Name.value_counts()"
   ]
  },
  {
   "cell_type": "code",
   "execution_count": 39,
   "id": "f037afbd",
   "metadata": {},
   "outputs": [
    {
     "data": {
      "text/plain": [
       "26    2\n",
       "27    2\n",
       "22    1\n",
       "23    1\n",
       "25    1\n",
       "21    1\n",
       "24    1\n",
       "19    1\n",
       "Name: Age, dtype: int64"
      ]
     },
     "execution_count": 39,
     "metadata": {},
     "output_type": "execute_result"
    }
   ],
   "source": [
    "df2.Age.value_counts()"
   ]
  },
  {
   "cell_type": "code",
   "execution_count": 40,
   "id": "3e453f9a",
   "metadata": {},
   "outputs": [
    {
     "data": {
      "text/plain": [
       "BCH            1\n",
       "Law            1\n",
       "Chemistry      1\n",
       "Biology        1\n",
       "Mathematics    1\n",
       "Physics        1\n",
       "English        1\n",
       "Medicine       1\n",
       "Pharmacy       1\n",
       "Insurance      1\n",
       "Name: Department, dtype: int64"
      ]
     },
     "execution_count": 40,
     "metadata": {},
     "output_type": "execute_result"
    }
   ],
   "source": [
    "df2.Department.value_counts()"
   ]
  },
  {
   "cell_type": "code",
   "execution_count": 41,
   "id": "78fd3800",
   "metadata": {},
   "outputs": [
    {
     "data": {
      "text/plain": [
       "3.0    1\n",
       "4.5    1\n",
       "3.4    1\n",
       "2.4    1\n",
       "4.0    1\n",
       "3.1    1\n",
       "1.8    1\n",
       "2.7    1\n",
       "3.9    1\n",
       "3.7    1\n",
       "Name: CGPA, dtype: int64"
      ]
     },
     "execution_count": 41,
     "metadata": {},
     "output_type": "execute_result"
    }
   ],
   "source": [
    "df2.CGPA.value_counts()"
   ]
  },
  {
   "cell_type": "code",
   "execution_count": 42,
   "id": "7d6300c4",
   "metadata": {},
   "outputs": [
    {
     "data": {
      "text/plain": [
       "2022-03-11    2\n",
       "2022-03-12    1\n",
       "2022-03-16    1\n",
       "2022-03-17    1\n",
       "2022-03-19    1\n",
       "2022-03-28    1\n",
       "2022-03-24    1\n",
       "2022-03-21    1\n",
       "2022-04-04    1\n",
       "Name: Admission_Date, dtype: int64"
      ]
     },
     "execution_count": 42,
     "metadata": {},
     "output_type": "execute_result"
    }
   ],
   "source": [
    "df2.Admission_Date.value_counts()"
   ]
  },
  {
   "cell_type": "code",
   "execution_count": 43,
   "id": "0945e6a0",
   "metadata": {},
   "outputs": [
    {
     "data": {
      "text/plain": [
       "Single     6\n",
       "Married    4\n",
       "Name: Relationship, dtype: int64"
      ]
     },
     "execution_count": 43,
     "metadata": {},
     "output_type": "execute_result"
    }
   ],
   "source": [
    "df2.Relationship.value_counts()"
   ]
  },
  {
   "cell_type": "code",
   "execution_count": 44,
   "id": "971ee245",
   "metadata": {},
   "outputs": [
    {
     "data": {
      "text/plain": [
       "Female    5\n",
       "Male      5\n",
       "Name: Gender, dtype: int64"
      ]
     },
     "execution_count": 44,
     "metadata": {},
     "output_type": "execute_result"
    }
   ],
   "source": [
    "df2.Gender.value_counts()"
   ]
  },
  {
   "cell_type": "code",
   "execution_count": 45,
   "id": "806270fd",
   "metadata": {},
   "outputs": [
    {
     "name": "stdout",
     "output_type": "stream",
     "text": [
      "<class 'pandas.core.frame.DataFrame'>\n",
      "RangeIndex: 10 entries, 0 to 9\n",
      "Data columns (total 10 columns):\n",
      " #   Column          Non-Null Count  Dtype         \n",
      "---  ------          --------------  -----         \n",
      " 0   Name            10 non-null     object        \n",
      " 1   Age             10 non-null     int64         \n",
      " 2   Relationship    10 non-null     object        \n",
      " 3   Department      10 non-null     object        \n",
      " 4   CGPA            10 non-null     float64       \n",
      " 5   Admission_Date  10 non-null     datetime64[ns]\n",
      " 6   Gender          10 non-null     object        \n",
      " 7   year            10 non-null     int64         \n",
      " 8   month           10 non-null     int64         \n",
      " 9   day             10 non-null     int64         \n",
      "dtypes: datetime64[ns](1), float64(1), int64(4), object(4)\n",
      "memory usage: 928.0+ bytes\n"
     ]
    }
   ],
   "source": [
    "#df.info()\n",
    "df2.info()"
   ]
  },
  {
   "cell_type": "code",
   "execution_count": 46,
   "id": "a88f3b0e",
   "metadata": {},
   "outputs": [
    {
     "data": {
      "text/html": [
       "<div>\n",
       "<style scoped>\n",
       "    .dataframe tbody tr th:only-of-type {\n",
       "        vertical-align: middle;\n",
       "    }\n",
       "\n",
       "    .dataframe tbody tr th {\n",
       "        vertical-align: top;\n",
       "    }\n",
       "\n",
       "    .dataframe thead th {\n",
       "        text-align: right;\n",
       "    }\n",
       "</style>\n",
       "<table border=\"1\" class=\"dataframe\">\n",
       "  <thead>\n",
       "    <tr style=\"text-align: right;\">\n",
       "      <th></th>\n",
       "      <th>Age</th>\n",
       "      <th>CGPA</th>\n",
       "      <th>year</th>\n",
       "      <th>month</th>\n",
       "      <th>day</th>\n",
       "    </tr>\n",
       "  </thead>\n",
       "  <tbody>\n",
       "    <tr>\n",
       "      <th>count</th>\n",
       "      <td>10.000000</td>\n",
       "      <td>10.000000</td>\n",
       "      <td>10.0</td>\n",
       "      <td>10.000000</td>\n",
       "      <td>10.000000</td>\n",
       "    </tr>\n",
       "    <tr>\n",
       "      <th>mean</th>\n",
       "      <td>24.000000</td>\n",
       "      <td>3.250000</td>\n",
       "      <td>2022.0</td>\n",
       "      <td>3.100000</td>\n",
       "      <td>16.300000</td>\n",
       "    </tr>\n",
       "    <tr>\n",
       "      <th>std</th>\n",
       "      <td>2.708013</td>\n",
       "      <td>0.815475</td>\n",
       "      <td>0.0</td>\n",
       "      <td>0.316228</td>\n",
       "      <td>7.087548</td>\n",
       "    </tr>\n",
       "    <tr>\n",
       "      <th>min</th>\n",
       "      <td>19.000000</td>\n",
       "      <td>1.800000</td>\n",
       "      <td>2022.0</td>\n",
       "      <td>3.000000</td>\n",
       "      <td>4.000000</td>\n",
       "    </tr>\n",
       "    <tr>\n",
       "      <th>25%</th>\n",
       "      <td>22.250000</td>\n",
       "      <td>2.775000</td>\n",
       "      <td>2022.0</td>\n",
       "      <td>3.000000</td>\n",
       "      <td>11.250000</td>\n",
       "    </tr>\n",
       "    <tr>\n",
       "      <th>50%</th>\n",
       "      <td>24.500000</td>\n",
       "      <td>3.250000</td>\n",
       "      <td>2022.0</td>\n",
       "      <td>3.000000</td>\n",
       "      <td>16.500000</td>\n",
       "    </tr>\n",
       "    <tr>\n",
       "      <th>75%</th>\n",
       "      <td>26.000000</td>\n",
       "      <td>3.850000</td>\n",
       "      <td>2022.0</td>\n",
       "      <td>3.000000</td>\n",
       "      <td>20.500000</td>\n",
       "    </tr>\n",
       "    <tr>\n",
       "      <th>max</th>\n",
       "      <td>27.000000</td>\n",
       "      <td>4.500000</td>\n",
       "      <td>2022.0</td>\n",
       "      <td>4.000000</td>\n",
       "      <td>28.000000</td>\n",
       "    </tr>\n",
       "  </tbody>\n",
       "</table>\n",
       "</div>"
      ],
      "text/plain": [
       "             Age       CGPA    year      month        day\n",
       "count  10.000000  10.000000    10.0  10.000000  10.000000\n",
       "mean   24.000000   3.250000  2022.0   3.100000  16.300000\n",
       "std     2.708013   0.815475     0.0   0.316228   7.087548\n",
       "min    19.000000   1.800000  2022.0   3.000000   4.000000\n",
       "25%    22.250000   2.775000  2022.0   3.000000  11.250000\n",
       "50%    24.500000   3.250000  2022.0   3.000000  16.500000\n",
       "75%    26.000000   3.850000  2022.0   3.000000  20.500000\n",
       "max    27.000000   4.500000  2022.0   4.000000  28.000000"
      ]
     },
     "execution_count": 46,
     "metadata": {},
     "output_type": "execute_result"
    }
   ],
   "source": [
    "# df.describe()\n",
    "df2.describe()"
   ]
  },
  {
   "cell_type": "code",
   "execution_count": 47,
   "id": "4a71d58f",
   "metadata": {},
   "outputs": [
    {
     "data": {
      "text/plain": [
       "(10, 10)"
      ]
     },
     "execution_count": 47,
     "metadata": {},
     "output_type": "execute_result"
    }
   ],
   "source": [
    "# number of rows and colomns\n",
    "df2.shape"
   ]
  },
  {
   "cell_type": "code",
   "execution_count": 48,
   "id": "892a46bc",
   "metadata": {},
   "outputs": [
    {
     "data": {
      "text/html": [
       "<div>\n",
       "<style scoped>\n",
       "    .dataframe tbody tr th:only-of-type {\n",
       "        vertical-align: middle;\n",
       "    }\n",
       "\n",
       "    .dataframe tbody tr th {\n",
       "        vertical-align: top;\n",
       "    }\n",
       "\n",
       "    .dataframe thead th {\n",
       "        text-align: right;\n",
       "    }\n",
       "</style>\n",
       "<table border=\"1\" class=\"dataframe\">\n",
       "  <thead>\n",
       "    <tr style=\"text-align: right;\">\n",
       "      <th></th>\n",
       "      <th>Name</th>\n",
       "      <th>Age</th>\n",
       "      <th>Relationship</th>\n",
       "      <th>Department</th>\n",
       "      <th>CGPA</th>\n",
       "      <th>Admission_Date</th>\n",
       "      <th>Gender</th>\n",
       "      <th>year</th>\n",
       "      <th>month</th>\n",
       "      <th>day</th>\n",
       "    </tr>\n",
       "  </thead>\n",
       "  <tbody>\n",
       "    <tr>\n",
       "      <th>1</th>\n",
       "      <td>Peter</td>\n",
       "      <td>23</td>\n",
       "      <td>Single</td>\n",
       "      <td>Law</td>\n",
       "      <td>4.5</td>\n",
       "      <td>2022-03-11</td>\n",
       "      <td>Male</td>\n",
       "      <td>2022</td>\n",
       "      <td>3</td>\n",
       "      <td>11</td>\n",
       "    </tr>\n",
       "    <tr>\n",
       "      <th>2</th>\n",
       "      <td>Paul</td>\n",
       "      <td>26</td>\n",
       "      <td>Married</td>\n",
       "      <td>Chemistry</td>\n",
       "      <td>3.4</td>\n",
       "      <td>2022-03-12</td>\n",
       "      <td>Male</td>\n",
       "      <td>2022</td>\n",
       "      <td>3</td>\n",
       "      <td>12</td>\n",
       "    </tr>\n",
       "    <tr>\n",
       "      <th>4</th>\n",
       "      <td>Bola</td>\n",
       "      <td>27</td>\n",
       "      <td>Single</td>\n",
       "      <td>Mathematics</td>\n",
       "      <td>4.0</td>\n",
       "      <td>2022-03-17</td>\n",
       "      <td>Male</td>\n",
       "      <td>2022</td>\n",
       "      <td>3</td>\n",
       "      <td>17</td>\n",
       "    </tr>\n",
       "    <tr>\n",
       "      <th>8</th>\n",
       "      <td>Tolu</td>\n",
       "      <td>26</td>\n",
       "      <td>Married</td>\n",
       "      <td>Pharmacy</td>\n",
       "      <td>3.9</td>\n",
       "      <td>2022-03-21</td>\n",
       "      <td>Male</td>\n",
       "      <td>2022</td>\n",
       "      <td>3</td>\n",
       "      <td>21</td>\n",
       "    </tr>\n",
       "    <tr>\n",
       "      <th>9</th>\n",
       "      <td>Will</td>\n",
       "      <td>27</td>\n",
       "      <td>Married</td>\n",
       "      <td>Insurance</td>\n",
       "      <td>3.7</td>\n",
       "      <td>2022-04-04</td>\n",
       "      <td>Male</td>\n",
       "      <td>2022</td>\n",
       "      <td>4</td>\n",
       "      <td>4</td>\n",
       "    </tr>\n",
       "  </tbody>\n",
       "</table>\n",
       "</div>"
      ],
      "text/plain": [
       "    Name  Age Relationship   Department  CGPA Admission_Date Gender  year  \\\n",
       "1  Peter   23       Single          Law   4.5     2022-03-11   Male  2022   \n",
       "2   Paul   26      Married    Chemistry   3.4     2022-03-12   Male  2022   \n",
       "4   Bola   27       Single  Mathematics   4.0     2022-03-17   Male  2022   \n",
       "8   Tolu   26      Married     Pharmacy   3.9     2022-03-21   Male  2022   \n",
       "9   Will   27      Married    Insurance   3.7     2022-04-04   Male  2022   \n",
       "\n",
       "   month  day  \n",
       "1      3   11  \n",
       "2      3   12  \n",
       "4      3   17  \n",
       "8      3   21  \n",
       "9      4    4  "
      ]
     },
     "execution_count": 48,
     "metadata": {},
     "output_type": "execute_result"
    }
   ],
   "source": [
    "# Subset the dataframe for male gender\n",
    "df2.query(\"Gender == 'Male'\")"
   ]
  },
  {
   "cell_type": "markdown",
   "id": "ff92acea",
   "metadata": {},
   "source": [
    "## Finding the mean,max, min, sum of CGPA"
   ]
  },
  {
   "cell_type": "code",
   "execution_count": 49,
   "id": "b791ede0",
   "metadata": {},
   "outputs": [
    {
     "data": {
      "text/plain": [
       "3.25"
      ]
     },
     "execution_count": 49,
     "metadata": {},
     "output_type": "execute_result"
    }
   ],
   "source": [
    "df2['CGPA'].mean()"
   ]
  },
  {
   "cell_type": "code",
   "execution_count": 50,
   "id": "7d7da44b",
   "metadata": {},
   "outputs": [
    {
     "data": {
      "text/plain": [
       "4.5"
      ]
     },
     "execution_count": 50,
     "metadata": {},
     "output_type": "execute_result"
    }
   ],
   "source": [
    "df2['CGPA'].max()"
   ]
  },
  {
   "cell_type": "code",
   "execution_count": 51,
   "id": "29804772",
   "metadata": {},
   "outputs": [
    {
     "data": {
      "text/plain": [
       "1.8"
      ]
     },
     "execution_count": 51,
     "metadata": {},
     "output_type": "execute_result"
    }
   ],
   "source": [
    "df2['CGPA'].min()"
   ]
  },
  {
   "cell_type": "code",
   "execution_count": 52,
   "id": "5a016637",
   "metadata": {},
   "outputs": [
    {
     "data": {
      "text/plain": [
       "32.5"
      ]
     },
     "execution_count": 52,
     "metadata": {},
     "output_type": "execute_result"
    }
   ],
   "source": [
    "df2['CGPA'].sum()"
   ]
  },
  {
   "cell_type": "code",
   "execution_count": 1,
   "id": "aea7a1e0",
   "metadata": {},
   "outputs": [
    {
     "ename": "NameError",
     "evalue": "name 'df2' is not defined",
     "output_type": "error",
     "traceback": [
      "\u001b[1;31m---------------------------------------------------------------------------\u001b[0m",
      "\u001b[1;31mNameError\u001b[0m                                 Traceback (most recent call last)",
      "\u001b[1;32mC:\\Users\\JIMMYP~1\\AppData\\Local\\Temp/ipykernel_7780/3842540123.py\u001b[0m in \u001b[0;36m<module>\u001b[1;34m\u001b[0m\n\u001b[1;32m----> 1\u001b[1;33m \u001b[0mdf2\u001b[0m\u001b[1;33m.\u001b[0m\u001b[0mto_csv\u001b[0m\u001b[1;33m(\u001b[0m\u001b[1;34m'dfs.csv'\u001b[0m\u001b[1;33m,\u001b[0m \u001b[0mindex\u001b[0m\u001b[1;33m=\u001b[0m\u001b[1;32mFalse\u001b[0m\u001b[1;33m)\u001b[0m\u001b[1;33m\u001b[0m\u001b[1;33m\u001b[0m\u001b[0m\n\u001b[0m",
      "\u001b[1;31mNameError\u001b[0m: name 'df2' is not defined"
     ]
    }
   ],
   "source": [
    "df2.to_csv('dfs.csv', index=False)"
   ]
  },
  {
   "cell_type": "code",
   "execution_count": 2,
   "id": "8be07da8",
   "metadata": {},
   "outputs": [
    {
     "data": {
      "text/plain": [
       "'C:\\\\Users\\\\JIMMY PC'"
      ]
     },
     "execution_count": 2,
     "metadata": {},
     "output_type": "execute_result"
    }
   ],
   "source": [
    "pwd"
   ]
  },
  {
   "cell_type": "code",
   "execution_count": null,
   "id": "4747c24a",
   "metadata": {},
   "outputs": [],
   "source": []
  }
 ],
 "metadata": {
  "kernelspec": {
   "display_name": "Python 3 (ipykernel)",
   "language": "python",
   "name": "python3"
  },
  "language_info": {
   "codemirror_mode": {
    "name": "ipython",
    "version": 3
   },
   "file_extension": ".py",
   "mimetype": "text/x-python",
   "name": "python",
   "nbconvert_exporter": "python",
   "pygments_lexer": "ipython3",
   "version": "3.9.7"
  }
 },
 "nbformat": 4,
 "nbformat_minor": 5
}
