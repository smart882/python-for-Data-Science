{
 "cells": [
  {
   "cell_type": "markdown",
   "id": "5f0f2213",
   "metadata": {},
   "source": [
    "FINANCIAL STATEMENT ANALYSIS\n",
    "\n",
    "Assumption: As a Data Scientist working in a consulting firm, A friend that owns a Beauty shop asked me to help her assess the financial statement of her enterprise. I was given two vectors of data: Monthly revenue and expenses for the year, 2021. The task is to calculate the following financial Metrics;\n",
    "\n",
    "profit for each month\n",
    "profit after tax for each month\n",
    "profit margin for each month\n",
    "Good months\n",
    "Bad months\n",
    "Best month\n",
    "worst Month"
   ]
  },
  {
   "cell_type": "code",
   "execution_count": 1,
   "id": "df47c1f9",
   "metadata": {},
   "outputs": [],
   "source": [
    "#Data\n",
    "revenue = {'January':2878325, 'February':1983422, 'March':1000042, 'April':3888800, 'May':1500000, 'June':2800001, 'July':900353, 'August':899999, 'September':4355521, 'October':3000000, 'November':1199990, 'December':2965551}\n",
    "expenses = {'January':1000000, 'February':899980, 'March':782821,'April':1555588, 'May':1600000, 'June':1000221, 'July':999821, 'August':482320, 'September':1888520, 'October':1000010, 'November':682221, 'December':998221}"
   ]
  },
  {
   "cell_type": "code",
   "execution_count": 2,
   "id": "7c01bce7",
   "metadata": {},
   "outputs": [
    {
     "data": {
      "text/html": [
       "<div>\n",
       "<style scoped>\n",
       "    .dataframe tbody tr th:only-of-type {\n",
       "        vertical-align: middle;\n",
       "    }\n",
       "\n",
       "    .dataframe tbody tr th {\n",
       "        vertical-align: top;\n",
       "    }\n",
       "\n",
       "    .dataframe thead th {\n",
       "        text-align: right;\n",
       "    }\n",
       "</style>\n",
       "<table border=\"1\" class=\"dataframe\">\n",
       "  <thead>\n",
       "    <tr style=\"text-align: right;\">\n",
       "      <th></th>\n",
       "      <th>Revenue</th>\n",
       "      <th>Expenses</th>\n",
       "    </tr>\n",
       "  </thead>\n",
       "  <tbody>\n",
       "    <tr>\n",
       "      <th>January</th>\n",
       "      <td>2878325</td>\n",
       "      <td>1000000</td>\n",
       "    </tr>\n",
       "    <tr>\n",
       "      <th>February</th>\n",
       "      <td>1983422</td>\n",
       "      <td>899980</td>\n",
       "    </tr>\n",
       "    <tr>\n",
       "      <th>March</th>\n",
       "      <td>1000042</td>\n",
       "      <td>782821</td>\n",
       "    </tr>\n",
       "    <tr>\n",
       "      <th>April</th>\n",
       "      <td>3888800</td>\n",
       "      <td>1555588</td>\n",
       "    </tr>\n",
       "    <tr>\n",
       "      <th>May</th>\n",
       "      <td>1500000</td>\n",
       "      <td>1600000</td>\n",
       "    </tr>\n",
       "    <tr>\n",
       "      <th>June</th>\n",
       "      <td>2800001</td>\n",
       "      <td>1000221</td>\n",
       "    </tr>\n",
       "    <tr>\n",
       "      <th>July</th>\n",
       "      <td>900353</td>\n",
       "      <td>999821</td>\n",
       "    </tr>\n",
       "    <tr>\n",
       "      <th>August</th>\n",
       "      <td>899999</td>\n",
       "      <td>482320</td>\n",
       "    </tr>\n",
       "    <tr>\n",
       "      <th>September</th>\n",
       "      <td>4355521</td>\n",
       "      <td>1888520</td>\n",
       "    </tr>\n",
       "    <tr>\n",
       "      <th>October</th>\n",
       "      <td>3000000</td>\n",
       "      <td>1000010</td>\n",
       "    </tr>\n",
       "    <tr>\n",
       "      <th>November</th>\n",
       "      <td>1199990</td>\n",
       "      <td>682221</td>\n",
       "    </tr>\n",
       "    <tr>\n",
       "      <th>December</th>\n",
       "      <td>2965551</td>\n",
       "      <td>998221</td>\n",
       "    </tr>\n",
       "  </tbody>\n",
       "</table>\n",
       "</div>"
      ],
      "text/plain": [
       "           Revenue  Expenses\n",
       "January    2878325   1000000\n",
       "February   1983422    899980\n",
       "March      1000042    782821\n",
       "April      3888800   1555588\n",
       "May        1500000   1600000\n",
       "June       2800001   1000221\n",
       "July        900353    999821\n",
       "August      899999    482320\n",
       "September  4355521   1888520\n",
       "October    3000000   1000010\n",
       "November   1199990    682221\n",
       "December   2965551    998221"
      ]
     },
     "execution_count": 2,
     "metadata": {},
     "output_type": "execute_result"
    }
   ],
   "source": [
    "import pandas as pd\n",
    "data = pd.DataFrame({'Revenue': revenue, 'Expenses': expenses})\n",
    "data"
   ]
  },
  {
   "cell_type": "code",
   "execution_count": 3,
   "id": "4ed3fda7",
   "metadata": {},
   "outputs": [
    {
     "data": {
      "text/plain": [
       "January      1878325\n",
       "February     1083442\n",
       "March         217221\n",
       "April        2333212\n",
       "May          -100000\n",
       "June         1799780\n",
       "July          -99468\n",
       "August        417679\n",
       "September    2467001\n",
       "October      1999990\n",
       "November      517769\n",
       "December     1967330\n",
       "Name: profit, dtype: int64"
      ]
     },
     "execution_count": 3,
     "metadata": {},
     "output_type": "execute_result"
    }
   ],
   "source": [
    "#profit for each month\n",
    "data['profit'] = data['Revenue'] - data['Expenses']\n",
    "data['profit']"
   ]
  },
  {
   "cell_type": "code",
   "execution_count": 4,
   "id": "98b0d914",
   "metadata": {},
   "outputs": [
    {
     "data": {
      "text/plain": [
       "January      1314827.5\n",
       "February      758409.4\n",
       "March         152054.7\n",
       "April        1633248.4\n",
       "May           -70000.0\n",
       "June         1259846.0\n",
       "July          -69627.6\n",
       "August        292375.3\n",
       "September    1726900.7\n",
       "October      1399993.0\n",
       "November      362438.3\n",
       "December     1377131.0\n",
       "Name: profit_after_tax, dtype: float64"
      ]
     },
     "execution_count": 4,
     "metadata": {},
     "output_type": "execute_result"
    }
   ],
   "source": [
    "#profit after tax for each month\n",
    "data['profit_after_tax'] = data['profit'] - data['profit']* 0.3\n",
    "data['profit_after_tax']"
   ]
  },
  {
   "cell_type": "code",
   "execution_count": 5,
   "id": "a78d9d2e",
   "metadata": {},
   "outputs": [
    {
     "data": {
      "text/plain": [
       "January      0.456803\n",
       "February     0.382374\n",
       "March        0.152048\n",
       "April        0.419988\n",
       "May         -0.046667\n",
       "June         0.449945\n",
       "July        -0.077334\n",
       "August       0.324862\n",
       "September    0.396485\n",
       "October      0.466664\n",
       "November     0.302034\n",
       "December     0.464376\n",
       "Name: profit_margin, dtype: float64"
      ]
     },
     "execution_count": 5,
     "metadata": {},
     "output_type": "execute_result"
    }
   ],
   "source": [
    "#profit Margin for each month\n",
    "data['profit_margin'] = data['profit_after_tax']/ data['Revenue']\n",
    "data['profit_margin']"
   ]
  },
  {
   "cell_type": "code",
   "execution_count": 6,
   "id": "48efc32f",
   "metadata": {},
   "outputs": [
    {
     "data": {
      "text/plain": [
       "January      45.680300\n",
       "February     38.237420\n",
       "March        15.204831\n",
       "April        41.998776\n",
       "May          -4.666667\n",
       "June         44.994484\n",
       "July         -7.733367\n",
       "August       32.486181\n",
       "September    39.648545\n",
       "October      46.666433\n",
       "November     30.203443\n",
       "December     46.437610\n",
       "Name: profit_margin, dtype: float64"
      ]
     },
     "execution_count": 6,
     "metadata": {},
     "output_type": "execute_result"
    }
   ],
   "source": [
    "data['profit_margin']*100"
   ]
  },
  {
   "cell_type": "code",
   "execution_count": 7,
   "id": "3e9530df",
   "metadata": {},
   "outputs": [
    {
     "data": {
      "text/plain": [
       "844799.7250000001"
      ]
     },
     "execution_count": 7,
     "metadata": {},
     "output_type": "execute_result"
    }
   ],
   "source": [
    "#mean \n",
    "data['profit_after_tax'].mean()\n"
   ]
  },
  {
   "cell_type": "code",
   "execution_count": 8,
   "id": "ee682086",
   "metadata": {},
   "outputs": [
    {
     "data": {
      "text/html": [
       "<div>\n",
       "<style scoped>\n",
       "    .dataframe tbody tr th:only-of-type {\n",
       "        vertical-align: middle;\n",
       "    }\n",
       "\n",
       "    .dataframe tbody tr th {\n",
       "        vertical-align: top;\n",
       "    }\n",
       "\n",
       "    .dataframe thead th {\n",
       "        text-align: right;\n",
       "    }\n",
       "</style>\n",
       "<table border=\"1\" class=\"dataframe\">\n",
       "  <thead>\n",
       "    <tr style=\"text-align: right;\">\n",
       "      <th></th>\n",
       "      <th>Revenue</th>\n",
       "      <th>Expenses</th>\n",
       "      <th>profit</th>\n",
       "      <th>profit_after_tax</th>\n",
       "      <th>profit_margin</th>\n",
       "    </tr>\n",
       "  </thead>\n",
       "  <tbody>\n",
       "    <tr>\n",
       "      <th>January</th>\n",
       "      <td>2878325</td>\n",
       "      <td>1000000</td>\n",
       "      <td>1878325</td>\n",
       "      <td>1314827.5</td>\n",
       "      <td>0.456803</td>\n",
       "    </tr>\n",
       "    <tr>\n",
       "      <th>April</th>\n",
       "      <td>3888800</td>\n",
       "      <td>1555588</td>\n",
       "      <td>2333212</td>\n",
       "      <td>1633248.4</td>\n",
       "      <td>0.419988</td>\n",
       "    </tr>\n",
       "    <tr>\n",
       "      <th>June</th>\n",
       "      <td>2800001</td>\n",
       "      <td>1000221</td>\n",
       "      <td>1799780</td>\n",
       "      <td>1259846.0</td>\n",
       "      <td>0.449945</td>\n",
       "    </tr>\n",
       "    <tr>\n",
       "      <th>September</th>\n",
       "      <td>4355521</td>\n",
       "      <td>1888520</td>\n",
       "      <td>2467001</td>\n",
       "      <td>1726900.7</td>\n",
       "      <td>0.396485</td>\n",
       "    </tr>\n",
       "    <tr>\n",
       "      <th>October</th>\n",
       "      <td>3000000</td>\n",
       "      <td>1000010</td>\n",
       "      <td>1999990</td>\n",
       "      <td>1399993.0</td>\n",
       "      <td>0.466664</td>\n",
       "    </tr>\n",
       "    <tr>\n",
       "      <th>December</th>\n",
       "      <td>2965551</td>\n",
       "      <td>998221</td>\n",
       "      <td>1967330</td>\n",
       "      <td>1377131.0</td>\n",
       "      <td>0.464376</td>\n",
       "    </tr>\n",
       "  </tbody>\n",
       "</table>\n",
       "</div>"
      ],
      "text/plain": [
       "           Revenue  Expenses   profit  profit_after_tax  profit_margin\n",
       "January    2878325   1000000  1878325         1314827.5       0.456803\n",
       "April      3888800   1555588  2333212         1633248.4       0.419988\n",
       "June       2800001   1000221  1799780         1259846.0       0.449945\n",
       "September  4355521   1888520  2467001         1726900.7       0.396485\n",
       "October    3000000   1000010  1999990         1399993.0       0.466664\n",
       "December   2965551    998221  1967330         1377131.0       0.464376"
      ]
     },
     "execution_count": 8,
     "metadata": {},
     "output_type": "execute_result"
    }
   ],
   "source": [
    "#Good months\n",
    "good_months = data.query('profit_after_tax > profit_after_tax.mean()')\n",
    "good_months"
   ]
  },
  {
   "cell_type": "code",
   "execution_count": 9,
   "id": "101c8d55",
   "metadata": {},
   "outputs": [
    {
     "data": {
      "text/html": [
       "<div>\n",
       "<style scoped>\n",
       "    .dataframe tbody tr th:only-of-type {\n",
       "        vertical-align: middle;\n",
       "    }\n",
       "\n",
       "    .dataframe tbody tr th {\n",
       "        vertical-align: top;\n",
       "    }\n",
       "\n",
       "    .dataframe thead th {\n",
       "        text-align: right;\n",
       "    }\n",
       "</style>\n",
       "<table border=\"1\" class=\"dataframe\">\n",
       "  <thead>\n",
       "    <tr style=\"text-align: right;\">\n",
       "      <th></th>\n",
       "      <th>Revenue</th>\n",
       "      <th>Expenses</th>\n",
       "      <th>profit</th>\n",
       "      <th>profit_after_tax</th>\n",
       "      <th>profit_margin</th>\n",
       "    </tr>\n",
       "  </thead>\n",
       "  <tbody>\n",
       "    <tr>\n",
       "      <th>February</th>\n",
       "      <td>1983422</td>\n",
       "      <td>899980</td>\n",
       "      <td>1083442</td>\n",
       "      <td>758409.4</td>\n",
       "      <td>0.382374</td>\n",
       "    </tr>\n",
       "    <tr>\n",
       "      <th>March</th>\n",
       "      <td>1000042</td>\n",
       "      <td>782821</td>\n",
       "      <td>217221</td>\n",
       "      <td>152054.7</td>\n",
       "      <td>0.152048</td>\n",
       "    </tr>\n",
       "    <tr>\n",
       "      <th>May</th>\n",
       "      <td>1500000</td>\n",
       "      <td>1600000</td>\n",
       "      <td>-100000</td>\n",
       "      <td>-70000.0</td>\n",
       "      <td>-0.046667</td>\n",
       "    </tr>\n",
       "    <tr>\n",
       "      <th>July</th>\n",
       "      <td>900353</td>\n",
       "      <td>999821</td>\n",
       "      <td>-99468</td>\n",
       "      <td>-69627.6</td>\n",
       "      <td>-0.077334</td>\n",
       "    </tr>\n",
       "    <tr>\n",
       "      <th>August</th>\n",
       "      <td>899999</td>\n",
       "      <td>482320</td>\n",
       "      <td>417679</td>\n",
       "      <td>292375.3</td>\n",
       "      <td>0.324862</td>\n",
       "    </tr>\n",
       "    <tr>\n",
       "      <th>November</th>\n",
       "      <td>1199990</td>\n",
       "      <td>682221</td>\n",
       "      <td>517769</td>\n",
       "      <td>362438.3</td>\n",
       "      <td>0.302034</td>\n",
       "    </tr>\n",
       "  </tbody>\n",
       "</table>\n",
       "</div>"
      ],
      "text/plain": [
       "          Revenue  Expenses   profit  profit_after_tax  profit_margin\n",
       "February  1983422    899980  1083442          758409.4       0.382374\n",
       "March     1000042    782821   217221          152054.7       0.152048\n",
       "May       1500000   1600000  -100000          -70000.0      -0.046667\n",
       "July       900353    999821   -99468          -69627.6      -0.077334\n",
       "August     899999    482320   417679          292375.3       0.324862\n",
       "November  1199990    682221   517769          362438.3       0.302034"
      ]
     },
     "execution_count": 9,
     "metadata": {},
     "output_type": "execute_result"
    }
   ],
   "source": [
    "#Bad months\n",
    "Bad_months = data.query('profit_after_tax <= profit_after_tax.mean()')\n",
    "Bad_months"
   ]
  },
  {
   "cell_type": "code",
   "execution_count": 10,
   "id": "632540f0",
   "metadata": {},
   "outputs": [
    {
     "data": {
      "text/html": [
       "<div>\n",
       "<style scoped>\n",
       "    .dataframe tbody tr th:only-of-type {\n",
       "        vertical-align: middle;\n",
       "    }\n",
       "\n",
       "    .dataframe tbody tr th {\n",
       "        vertical-align: top;\n",
       "    }\n",
       "\n",
       "    .dataframe thead th {\n",
       "        text-align: right;\n",
       "    }\n",
       "</style>\n",
       "<table border=\"1\" class=\"dataframe\">\n",
       "  <thead>\n",
       "    <tr style=\"text-align: right;\">\n",
       "      <th></th>\n",
       "      <th>Revenue</th>\n",
       "      <th>Expenses</th>\n",
       "      <th>profit</th>\n",
       "      <th>profit_after_tax</th>\n",
       "      <th>profit_margin</th>\n",
       "    </tr>\n",
       "  </thead>\n",
       "  <tbody>\n",
       "    <tr>\n",
       "      <th>September</th>\n",
       "      <td>4355521</td>\n",
       "      <td>1888520</td>\n",
       "      <td>2467001</td>\n",
       "      <td>1726900.7</td>\n",
       "      <td>0.396485</td>\n",
       "    </tr>\n",
       "  </tbody>\n",
       "</table>\n",
       "</div>"
      ],
      "text/plain": [
       "           Revenue  Expenses   profit  profit_after_tax  profit_margin\n",
       "September  4355521   1888520  2467001         1726900.7       0.396485"
      ]
     },
     "execution_count": 10,
     "metadata": {},
     "output_type": "execute_result"
    }
   ],
   "source": [
    "#Best mon\n",
    "best_month = data[data['profit_after_tax'] == data['profit_after_tax'].max()]\n",
    "best_month"
   ]
  },
  {
   "cell_type": "code",
   "execution_count": 11,
   "id": "b61c96a2",
   "metadata": {},
   "outputs": [
    {
     "data": {
      "text/html": [
       "<div>\n",
       "<style scoped>\n",
       "    .dataframe tbody tr th:only-of-type {\n",
       "        vertical-align: middle;\n",
       "    }\n",
       "\n",
       "    .dataframe tbody tr th {\n",
       "        vertical-align: top;\n",
       "    }\n",
       "\n",
       "    .dataframe thead th {\n",
       "        text-align: right;\n",
       "    }\n",
       "</style>\n",
       "<table border=\"1\" class=\"dataframe\">\n",
       "  <thead>\n",
       "    <tr style=\"text-align: right;\">\n",
       "      <th></th>\n",
       "      <th>Revenue</th>\n",
       "      <th>Expenses</th>\n",
       "      <th>profit</th>\n",
       "      <th>profit_after_tax</th>\n",
       "      <th>profit_margin</th>\n",
       "    </tr>\n",
       "  </thead>\n",
       "  <tbody>\n",
       "    <tr>\n",
       "      <th>May</th>\n",
       "      <td>1500000</td>\n",
       "      <td>1600000</td>\n",
       "      <td>-100000</td>\n",
       "      <td>-70000.0</td>\n",
       "      <td>-0.046667</td>\n",
       "    </tr>\n",
       "  </tbody>\n",
       "</table>\n",
       "</div>"
      ],
      "text/plain": [
       "     Revenue  Expenses  profit  profit_after_tax  profit_margin\n",
       "May  1500000   1600000 -100000          -70000.0      -0.046667"
      ]
     },
     "execution_count": 11,
     "metadata": {},
     "output_type": "execute_result"
    }
   ],
   "source": [
    "#Worst month\n",
    "worst_month = data[data['profit_after_tax'] == data['profit_after_tax'].min()]\n",
    "worst_month"
   ]
  },
  {
   "cell_type": "code",
   "execution_count": null,
   "id": "56372fbb",
   "metadata": {},
   "outputs": [],
   "source": []
  }
 ],
 "metadata": {
  "kernelspec": {
   "display_name": "Python 3 (ipykernel)",
   "language": "python",
   "name": "python3"
  },
  "language_info": {
   "codemirror_mode": {
    "name": "ipython",
    "version": 3
   },
   "file_extension": ".py",
   "mimetype": "text/x-python",
   "name": "python",
   "nbconvert_exporter": "python",
   "pygments_lexer": "ipython3",
   "version": "3.9.7"
  }
 },
 "nbformat": 4,
 "nbformat_minor": 5
}
